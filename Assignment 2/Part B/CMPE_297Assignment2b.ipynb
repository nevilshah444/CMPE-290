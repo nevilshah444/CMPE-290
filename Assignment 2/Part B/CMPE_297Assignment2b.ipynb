{
  "cells": [
    {
      "cell_type": "markdown",
      "metadata": {
        "id": "ZjvXjwSbVvMl"
      },
      "source": [
        "Node classification with Graph Convolutional Network (GCN) Assignment\n",
        "\n",
        "\n"
      ]
    },
    {
      "cell_type": "code",
      "execution_count": 1,
      "metadata": {
        "nbsphinx": "hidden",
        "tags": [
          "CloudRunner"
        ],
        "id": "YcdTPpDEVvMw",
        "colab": {
          "base_uri": "https://localhost:8080/"
        },
        "outputId": "af315742-1fa3-4042-fed5-72ef78e8f6fd"
      },
      "outputs": [
        {
          "output_type": "stream",
          "name": "stdout",
          "text": [
            "\u001b[K     |████████████████████████████████| 435 kB 14.1 MB/s \n",
            "\u001b[K     |████████████████████████████████| 500 kB 54.9 MB/s \n",
            "\u001b[K     |████████████████████████████████| 120 kB 58.5 MB/s \n",
            "\u001b[K     |████████████████████████████████| 1.6 MB 31.7 MB/s \n",
            "\u001b[K     |████████████████████████████████| 82 kB 394 kB/s \n",
            "\u001b[K     |████████████████████████████████| 41 kB 243 kB/s \n",
            "\u001b[?25h  Building wheel for mplleaflet (setup.py) ... \u001b[?25l\u001b[?25hdone\n"
          ]
        }
      ],
      "source": [
        "# Installing StellarGraph\n",
        "import sys\n",
        "if 'google.colab' in sys.modules:\n",
        "  %pip install -q stellargraph[demos]==1.2.1"
      ]
    },
    {
      "cell_type": "code",
      "execution_count": 2,
      "metadata": {
        "nbsphinx": "hidden",
        "tags": [
          "VersionCheck"
        ],
        "id": "mPdqUX1HVvMx"
      },
      "outputs": [],
      "source": [
        "# verify the usage of correct version of StellarGraph for this notebook\n",
        "import stellargraph as sg\n",
        "\n",
        "try:\n",
        "    sg.utils.validate_notebook_version(\"1.2.1\")\n",
        "except AttributeError:\n",
        "    raise ValueError(\n",
        "        f\"This notebook requires StellarGraph version 1.2.1, but a different version {sg.__version__} is installed.  Please see <https://github.com/stellargraph/stellargraph/issues/1172>.\"\n",
        "    ) from None"
      ]
    },
    {
      "cell_type": "code",
      "execution_count": 3,
      "metadata": {
        "id": "1fiE4lPJVvMz"
      },
      "outputs": [],
      "source": [
        "import pandas as pd\n",
        "import os\n",
        "\n",
        "import stellargraph as sg\n",
        "from stellargraph.mapper import FullBatchNodeGenerator\n",
        "from stellargraph.layer import GCN\n",
        "\n",
        "from tensorflow.keras import layers, optimizers, losses, metrics, Model\n",
        "from sklearn import preprocessing, model_selection\n",
        "from IPython.display import display, HTML\n",
        "import matplotlib.pyplot as plt\n",
        "%matplotlib inline"
      ]
    },
    {
      "cell_type": "markdown",
      "metadata": {
        "id": "ZT_Qb4xEVvM0"
      },
      "source": [
        "## 1. Loading the CORA network\n"
      ]
    },
    {
      "cell_type": "code",
      "execution_count": 4,
      "metadata": {
        "tags": [
          "DataLoading"
        ],
        "id": "J_JCoe8GVvM4",
        "outputId": "54429876-164c-46c5-8998-9e3db4d0738c",
        "colab": {
          "base_uri": "https://localhost:8080/",
          "height": 52
        }
      },
      "outputs": [
        {
          "output_type": "display_data",
          "data": {
            "text/plain": [
              "<IPython.core.display.HTML object>"
            ],
            "text/html": [
              "The Cora dataset consists of 2708 scientific publications classified into one of seven classes. The citation network consists of 5429 links. Each publication in the dataset is described by a 0/1-valued word vector indicating the absence/presence of the corresponding word from the dictionary. The dictionary consists of 1433 unique words."
            ]
          },
          "metadata": {}
        }
      ],
      "source": [
        "dataset = sg.datasets.Cora()\n",
        "display(HTML(dataset.description))\n",
        "G, node_subjects = dataset.load()"
      ]
    },
    {
      "cell_type": "markdown",
      "metadata": {
        "id": "ieq-uKuoVvM5"
      },
      "source": [
        "The `info` method can help us verify that our loaded graph matches the description:"
      ]
    },
    {
      "cell_type": "code",
      "execution_count": 5,
      "metadata": {
        "id": "jiIX05CIVvM5",
        "outputId": "6e3e8726-e7e1-445f-a932-3227d17a815e",
        "colab": {
          "base_uri": "https://localhost:8080/"
        }
      },
      "outputs": [
        {
          "output_type": "stream",
          "name": "stdout",
          "text": [
            "StellarGraph: Undirected multigraph\n",
            " Nodes: 2708, Edges: 5429\n",
            "\n",
            " Node types:\n",
            "  paper: [2708]\n",
            "    Features: float32 vector, length 1433\n",
            "    Edge types: paper-cites->paper\n",
            "\n",
            " Edge types:\n",
            "    paper-cites->paper: [5429]\n",
            "        Weights: all 1 (default)\n",
            "        Features: none\n"
          ]
        }
      ],
      "source": [
        "print(G.info())"
      ]
    },
    {
      "cell_type": "markdown",
      "metadata": {
        "id": "ikXIqPK-VvM6"
      },
      "source": [
        "We aim to train a graph-ML model that will predict the \"subject\" attribute on the nodes. These subjects are one of 7 categories, with some categories more common than others:"
      ]
    },
    {
      "cell_type": "code",
      "execution_count": 6,
      "metadata": {
        "id": "bTK5FR6SVvM6",
        "outputId": "085e6943-45a8-4a11-f459-bba7fbe932ae",
        "colab": {
          "base_uri": "https://localhost:8080/",
          "height": 269
        }
      },
      "outputs": [
        {
          "output_type": "execute_result",
          "data": {
            "text/plain": [
              "                        subject\n",
              "Neural_Networks             818\n",
              "Probabilistic_Methods       426\n",
              "Genetic_Algorithms          418\n",
              "Theory                      351\n",
              "Case_Based                  298\n",
              "Reinforcement_Learning      217\n",
              "Rule_Learning               180"
            ],
            "text/html": [
              "\n",
              "  <div id=\"df-313a677a-47ee-4356-b559-31b3cf34f482\">\n",
              "    <div class=\"colab-df-container\">\n",
              "      <div>\n",
              "<style scoped>\n",
              "    .dataframe tbody tr th:only-of-type {\n",
              "        vertical-align: middle;\n",
              "    }\n",
              "\n",
              "    .dataframe tbody tr th {\n",
              "        vertical-align: top;\n",
              "    }\n",
              "\n",
              "    .dataframe thead th {\n",
              "        text-align: right;\n",
              "    }\n",
              "</style>\n",
              "<table border=\"1\" class=\"dataframe\">\n",
              "  <thead>\n",
              "    <tr style=\"text-align: right;\">\n",
              "      <th></th>\n",
              "      <th>subject</th>\n",
              "    </tr>\n",
              "  </thead>\n",
              "  <tbody>\n",
              "    <tr>\n",
              "      <th>Neural_Networks</th>\n",
              "      <td>818</td>\n",
              "    </tr>\n",
              "    <tr>\n",
              "      <th>Probabilistic_Methods</th>\n",
              "      <td>426</td>\n",
              "    </tr>\n",
              "    <tr>\n",
              "      <th>Genetic_Algorithms</th>\n",
              "      <td>418</td>\n",
              "    </tr>\n",
              "    <tr>\n",
              "      <th>Theory</th>\n",
              "      <td>351</td>\n",
              "    </tr>\n",
              "    <tr>\n",
              "      <th>Case_Based</th>\n",
              "      <td>298</td>\n",
              "    </tr>\n",
              "    <tr>\n",
              "      <th>Reinforcement_Learning</th>\n",
              "      <td>217</td>\n",
              "    </tr>\n",
              "    <tr>\n",
              "      <th>Rule_Learning</th>\n",
              "      <td>180</td>\n",
              "    </tr>\n",
              "  </tbody>\n",
              "</table>\n",
              "</div>\n",
              "      <button class=\"colab-df-convert\" onclick=\"convertToInteractive('df-313a677a-47ee-4356-b559-31b3cf34f482')\"\n",
              "              title=\"Convert this dataframe to an interactive table.\"\n",
              "              style=\"display:none;\">\n",
              "        \n",
              "  <svg xmlns=\"http://www.w3.org/2000/svg\" height=\"24px\"viewBox=\"0 0 24 24\"\n",
              "       width=\"24px\">\n",
              "    <path d=\"M0 0h24v24H0V0z\" fill=\"none\"/>\n",
              "    <path d=\"M18.56 5.44l.94 2.06.94-2.06 2.06-.94-2.06-.94-.94-2.06-.94 2.06-2.06.94zm-11 1L8.5 8.5l.94-2.06 2.06-.94-2.06-.94L8.5 2.5l-.94 2.06-2.06.94zm10 10l.94 2.06.94-2.06 2.06-.94-2.06-.94-.94-2.06-.94 2.06-2.06.94z\"/><path d=\"M17.41 7.96l-1.37-1.37c-.4-.4-.92-.59-1.43-.59-.52 0-1.04.2-1.43.59L10.3 9.45l-7.72 7.72c-.78.78-.78 2.05 0 2.83L4 21.41c.39.39.9.59 1.41.59.51 0 1.02-.2 1.41-.59l7.78-7.78 2.81-2.81c.8-.78.8-2.07 0-2.86zM5.41 20L4 18.59l7.72-7.72 1.47 1.35L5.41 20z\"/>\n",
              "  </svg>\n",
              "      </button>\n",
              "      \n",
              "  <style>\n",
              "    .colab-df-container {\n",
              "      display:flex;\n",
              "      flex-wrap:wrap;\n",
              "      gap: 12px;\n",
              "    }\n",
              "\n",
              "    .colab-df-convert {\n",
              "      background-color: #E8F0FE;\n",
              "      border: none;\n",
              "      border-radius: 50%;\n",
              "      cursor: pointer;\n",
              "      display: none;\n",
              "      fill: #1967D2;\n",
              "      height: 32px;\n",
              "      padding: 0 0 0 0;\n",
              "      width: 32px;\n",
              "    }\n",
              "\n",
              "    .colab-df-convert:hover {\n",
              "      background-color: #E2EBFA;\n",
              "      box-shadow: 0px 1px 2px rgba(60, 64, 67, 0.3), 0px 1px 3px 1px rgba(60, 64, 67, 0.15);\n",
              "      fill: #174EA6;\n",
              "    }\n",
              "\n",
              "    [theme=dark] .colab-df-convert {\n",
              "      background-color: #3B4455;\n",
              "      fill: #D2E3FC;\n",
              "    }\n",
              "\n",
              "    [theme=dark] .colab-df-convert:hover {\n",
              "      background-color: #434B5C;\n",
              "      box-shadow: 0px 1px 3px 1px rgba(0, 0, 0, 0.15);\n",
              "      filter: drop-shadow(0px 1px 2px rgba(0, 0, 0, 0.3));\n",
              "      fill: #FFFFFF;\n",
              "    }\n",
              "  </style>\n",
              "\n",
              "      <script>\n",
              "        const buttonEl =\n",
              "          document.querySelector('#df-313a677a-47ee-4356-b559-31b3cf34f482 button.colab-df-convert');\n",
              "        buttonEl.style.display =\n",
              "          google.colab.kernel.accessAllowed ? 'block' : 'none';\n",
              "\n",
              "        async function convertToInteractive(key) {\n",
              "          const element = document.querySelector('#df-313a677a-47ee-4356-b559-31b3cf34f482');\n",
              "          const dataTable =\n",
              "            await google.colab.kernel.invokeFunction('convertToInteractive',\n",
              "                                                     [key], {});\n",
              "          if (!dataTable) return;\n",
              "\n",
              "          const docLinkHtml = 'Like what you see? Visit the ' +\n",
              "            '<a target=\"_blank\" href=https://colab.research.google.com/notebooks/data_table.ipynb>data table notebook</a>'\n",
              "            + ' to learn more about interactive tables.';\n",
              "          element.innerHTML = '';\n",
              "          dataTable['output_type'] = 'display_data';\n",
              "          await google.colab.output.renderOutput(dataTable, element);\n",
              "          const docLink = document.createElement('div');\n",
              "          docLink.innerHTML = docLinkHtml;\n",
              "          element.appendChild(docLink);\n",
              "        }\n",
              "      </script>\n",
              "    </div>\n",
              "  </div>\n",
              "  "
            ]
          },
          "metadata": {},
          "execution_count": 6
        }
      ],
      "source": [
        "node_subjects.value_counts().to_frame()"
      ]
    },
    {
      "cell_type": "markdown",
      "metadata": {
        "id": "oMAS77_7VvM7"
      },
      "source": [
        "### Dataset Splitting: (Train and Test)"
      ]
    },
    {
      "cell_type": "markdown",
      "metadata": {
        "id": "smUNOLZGVvM7"
      },
      "source": [
        "For machine learning we want to take a subset of the nodes for training, and use the rest for validation and testing. We'll use scikit-learn's `train_test_split` function.\n",
        "\n",
        "Here we're taking 140 node labels for training, 500 for validation, and the rest for testing."
      ]
    },
    {
      "cell_type": "code",
      "execution_count": 7,
      "metadata": {
        "id": "NTd9-H5oVvM8"
      },
      "outputs": [],
      "source": [
        "train_subjects, test_subjects = model_selection.train_test_split(\n",
        "    node_subjects, train_size=140, test_size=None, stratify=node_subjects\n",
        ")\n",
        "val_subjects, test_subjects = model_selection.train_test_split(\n",
        "    test_subjects, train_size=500, test_size=None, stratify=test_subjects\n",
        ")"
      ]
    },
    {
      "cell_type": "markdown",
      "metadata": {
        "id": "L9hyvtsaVvM9"
      },
      "source": [
        "Note using stratified sampling gives the following counts:"
      ]
    },
    {
      "cell_type": "code",
      "execution_count": 8,
      "metadata": {
        "id": "r1RpZirnVvM9",
        "outputId": "82301fdf-471e-4cda-bb8e-e28aa372eeed",
        "colab": {
          "base_uri": "https://localhost:8080/",
          "height": 269
        }
      },
      "outputs": [
        {
          "output_type": "execute_result",
          "data": {
            "text/plain": [
              "                        subject\n",
              "Neural_Networks              42\n",
              "Probabilistic_Methods        22\n",
              "Genetic_Algorithms           22\n",
              "Theory                       18\n",
              "Case_Based                   16\n",
              "Reinforcement_Learning       11\n",
              "Rule_Learning                 9"
            ],
            "text/html": [
              "\n",
              "  <div id=\"df-ab158a5d-8a1e-4b97-9ca3-04bacda458b9\">\n",
              "    <div class=\"colab-df-container\">\n",
              "      <div>\n",
              "<style scoped>\n",
              "    .dataframe tbody tr th:only-of-type {\n",
              "        vertical-align: middle;\n",
              "    }\n",
              "\n",
              "    .dataframe tbody tr th {\n",
              "        vertical-align: top;\n",
              "    }\n",
              "\n",
              "    .dataframe thead th {\n",
              "        text-align: right;\n",
              "    }\n",
              "</style>\n",
              "<table border=\"1\" class=\"dataframe\">\n",
              "  <thead>\n",
              "    <tr style=\"text-align: right;\">\n",
              "      <th></th>\n",
              "      <th>subject</th>\n",
              "    </tr>\n",
              "  </thead>\n",
              "  <tbody>\n",
              "    <tr>\n",
              "      <th>Neural_Networks</th>\n",
              "      <td>42</td>\n",
              "    </tr>\n",
              "    <tr>\n",
              "      <th>Probabilistic_Methods</th>\n",
              "      <td>22</td>\n",
              "    </tr>\n",
              "    <tr>\n",
              "      <th>Genetic_Algorithms</th>\n",
              "      <td>22</td>\n",
              "    </tr>\n",
              "    <tr>\n",
              "      <th>Theory</th>\n",
              "      <td>18</td>\n",
              "    </tr>\n",
              "    <tr>\n",
              "      <th>Case_Based</th>\n",
              "      <td>16</td>\n",
              "    </tr>\n",
              "    <tr>\n",
              "      <th>Reinforcement_Learning</th>\n",
              "      <td>11</td>\n",
              "    </tr>\n",
              "    <tr>\n",
              "      <th>Rule_Learning</th>\n",
              "      <td>9</td>\n",
              "    </tr>\n",
              "  </tbody>\n",
              "</table>\n",
              "</div>\n",
              "      <button class=\"colab-df-convert\" onclick=\"convertToInteractive('df-ab158a5d-8a1e-4b97-9ca3-04bacda458b9')\"\n",
              "              title=\"Convert this dataframe to an interactive table.\"\n",
              "              style=\"display:none;\">\n",
              "        \n",
              "  <svg xmlns=\"http://www.w3.org/2000/svg\" height=\"24px\"viewBox=\"0 0 24 24\"\n",
              "       width=\"24px\">\n",
              "    <path d=\"M0 0h24v24H0V0z\" fill=\"none\"/>\n",
              "    <path d=\"M18.56 5.44l.94 2.06.94-2.06 2.06-.94-2.06-.94-.94-2.06-.94 2.06-2.06.94zm-11 1L8.5 8.5l.94-2.06 2.06-.94-2.06-.94L8.5 2.5l-.94 2.06-2.06.94zm10 10l.94 2.06.94-2.06 2.06-.94-2.06-.94-.94-2.06-.94 2.06-2.06.94z\"/><path d=\"M17.41 7.96l-1.37-1.37c-.4-.4-.92-.59-1.43-.59-.52 0-1.04.2-1.43.59L10.3 9.45l-7.72 7.72c-.78.78-.78 2.05 0 2.83L4 21.41c.39.39.9.59 1.41.59.51 0 1.02-.2 1.41-.59l7.78-7.78 2.81-2.81c.8-.78.8-2.07 0-2.86zM5.41 20L4 18.59l7.72-7.72 1.47 1.35L5.41 20z\"/>\n",
              "  </svg>\n",
              "      </button>\n",
              "      \n",
              "  <style>\n",
              "    .colab-df-container {\n",
              "      display:flex;\n",
              "      flex-wrap:wrap;\n",
              "      gap: 12px;\n",
              "    }\n",
              "\n",
              "    .colab-df-convert {\n",
              "      background-color: #E8F0FE;\n",
              "      border: none;\n",
              "      border-radius: 50%;\n",
              "      cursor: pointer;\n",
              "      display: none;\n",
              "      fill: #1967D2;\n",
              "      height: 32px;\n",
              "      padding: 0 0 0 0;\n",
              "      width: 32px;\n",
              "    }\n",
              "\n",
              "    .colab-df-convert:hover {\n",
              "      background-color: #E2EBFA;\n",
              "      box-shadow: 0px 1px 2px rgba(60, 64, 67, 0.3), 0px 1px 3px 1px rgba(60, 64, 67, 0.15);\n",
              "      fill: #174EA6;\n",
              "    }\n",
              "\n",
              "    [theme=dark] .colab-df-convert {\n",
              "      background-color: #3B4455;\n",
              "      fill: #D2E3FC;\n",
              "    }\n",
              "\n",
              "    [theme=dark] .colab-df-convert:hover {\n",
              "      background-color: #434B5C;\n",
              "      box-shadow: 0px 1px 3px 1px rgba(0, 0, 0, 0.15);\n",
              "      filter: drop-shadow(0px 1px 2px rgba(0, 0, 0, 0.3));\n",
              "      fill: #FFFFFF;\n",
              "    }\n",
              "  </style>\n",
              "\n",
              "      <script>\n",
              "        const buttonEl =\n",
              "          document.querySelector('#df-ab158a5d-8a1e-4b97-9ca3-04bacda458b9 button.colab-df-convert');\n",
              "        buttonEl.style.display =\n",
              "          google.colab.kernel.accessAllowed ? 'block' : 'none';\n",
              "\n",
              "        async function convertToInteractive(key) {\n",
              "          const element = document.querySelector('#df-ab158a5d-8a1e-4b97-9ca3-04bacda458b9');\n",
              "          const dataTable =\n",
              "            await google.colab.kernel.invokeFunction('convertToInteractive',\n",
              "                                                     [key], {});\n",
              "          if (!dataTable) return;\n",
              "\n",
              "          const docLinkHtml = 'Like what you see? Visit the ' +\n",
              "            '<a target=\"_blank\" href=https://colab.research.google.com/notebooks/data_table.ipynb>data table notebook</a>'\n",
              "            + ' to learn more about interactive tables.';\n",
              "          element.innerHTML = '';\n",
              "          dataTable['output_type'] = 'display_data';\n",
              "          await google.colab.output.renderOutput(dataTable, element);\n",
              "          const docLink = document.createElement('div');\n",
              "          docLink.innerHTML = docLinkHtml;\n",
              "          element.appendChild(docLink);\n",
              "        }\n",
              "      </script>\n",
              "    </div>\n",
              "  </div>\n",
              "  "
            ]
          },
          "metadata": {},
          "execution_count": 8
        }
      ],
      "source": [
        "train_subjects.value_counts().to_frame()"
      ]
    },
    {
      "cell_type": "markdown",
      "metadata": {
        "id": "Iyo0LskIVvM9"
      },
      "source": [
        "The training set has class imbalance that might need to be compensated, e.g., via using a weighted cross-entropy loss in model training, with class weights inversely proportional to class support. However, we will ignore the class imbalance in this example, for simplicity."
      ]
    },
    {
      "cell_type": "markdown",
      "metadata": {
        "id": "M38VVbZYVvM-"
      },
      "source": [
        "### Numeric arrays conversion\n"
      ]
    },
    {
      "cell_type": "markdown",
      "metadata": {
        "id": "v2p1fJJ-VvM-"
      },
      "source": [
        "For our categorical target, we will use one-hot vectors that will be compared against the model's soft-max output. To do this conversion we can use the `LabelBinarizer` transform. Another option would be the `pandas.get_dummies` function, but the scikit-learn transform allows us to do the inverse transform easily later in the notebook, to interpret the predictions."
      ]
    },
    {
      "cell_type": "code",
      "execution_count": 9,
      "metadata": {
        "id": "zI41FssyVvM-"
      },
      "outputs": [],
      "source": [
        "target_encoding = preprocessing.LabelBinarizer()\n",
        "\n",
        "train_targets = target_encoding.fit_transform(train_subjects)\n",
        "val_targets = target_encoding.transform(val_subjects)\n",
        "test_targets = target_encoding.transform(test_subjects)"
      ]
    },
    {
      "cell_type": "markdown",
      "metadata": {
        "id": "vBHnbT5sVvM_"
      },
      "source": [
        "The CORA dataset contains attributes `w_x` that correspond to words found in that publication. If a word occurs more than once in a publication the relevant attribute will be set to one, otherwise it will be zero. These numeric attributes have been automatically included in the `StellarGraph` instance `G`, and so we do not have to do any further conversion."
      ]
    },
    {
      "cell_type": "code",
      "execution_count": 10,
      "metadata": {
        "id": "wqT9PhS2VvNA",
        "outputId": "15bf63b5-84cc-4881-ef8e-3fd1a02f7a32",
        "colab": {
          "base_uri": "https://localhost:8080/"
        }
      },
      "outputs": [
        {
          "output_type": "stream",
          "name": "stdout",
          "text": [
            "Using GCN (local pooling) filters...\n"
          ]
        }
      ],
      "source": [
        "generator = FullBatchNodeGenerator(G, method=\"gcn\")"
      ]
    },
    {
      "cell_type": "code",
      "execution_count": 11,
      "metadata": {
        "id": "4buUIz69VvNA"
      },
      "outputs": [],
      "source": [
        "train_gen = generator.flow(train_subjects.index, train_targets)"
      ]
    },
    {
      "cell_type": "code",
      "execution_count": 12,
      "metadata": {
        "id": "uS1lpDTUVvNB"
      },
      "outputs": [],
      "source": [
        "gcn = GCN(\n",
        "    layer_sizes=[16, 16], activations=[\"relu\", \"relu\"], generator=generator, dropout=0.5\n",
        ")"
      ]
    },
    {
      "cell_type": "markdown",
      "metadata": {
        "id": "H6RjAqZMVvNB"
      },
      "source": [
        "To create a Keras model we now expose the input and output tensors of the GCN model for node prediction, via the `GCN.in_out_tensors` method:"
      ]
    },
    {
      "cell_type": "code",
      "execution_count": 13,
      "metadata": {
        "id": "EI2aukKJVvNC",
        "outputId": "c5b54b1a-363f-49bd-927f-501fb4252d2f",
        "colab": {
          "base_uri": "https://localhost:8080/"
        }
      },
      "outputs": [
        {
          "output_type": "execute_result",
          "data": {
            "text/plain": [
              "<KerasTensor: shape=(1, None, 16) dtype=float32 (created by layer 'gather_indices')>"
            ]
          },
          "metadata": {},
          "execution_count": 13
        }
      ],
      "source": [
        "x_inp, x_out = gcn.in_out_tensors()\n",
        "\n",
        "x_out"
      ]
    },
    {
      "cell_type": "code",
      "execution_count": 14,
      "metadata": {
        "id": "umKcMNXzVvND"
      },
      "outputs": [],
      "source": [
        "predictions = layers.Dense(units=train_targets.shape[1], activation=\"softmax\")(x_out)"
      ]
    },
    {
      "cell_type": "markdown",
      "metadata": {
        "id": "bL3wbx1sVvND"
      },
      "source": [
        "## 3. Training and evaluating\n",
        "\n",
        "### Training the model"
      ]
    },
    {
      "cell_type": "markdown",
      "metadata": {
        "id": "8M_UC8yhVvNF"
      },
      "source": [
        "Now let's create the actual Keras model with the input tensors `x_inp` and output tensors being the predictions `predictions` from the final dense layer. Our task is a categorical prediction task, so a categorical cross-entropy loss function is appropriate. Even though we're doing graph ML with StellarGraph, we're still working with conventional Keras prediction values, so we can use the loss function from Keras directly."
      ]
    },
    {
      "cell_type": "code",
      "execution_count": 15,
      "metadata": {
        "id": "iXGr1XPmVvNF",
        "colab": {
          "base_uri": "https://localhost:8080/"
        },
        "outputId": "f98cae54-a748-4fda-f602-7963fc0cb0ea"
      },
      "outputs": [
        {
          "output_type": "stream",
          "name": "stderr",
          "text": [
            "/usr/local/lib/python3.7/dist-packages/keras/optimizers/optimizer_v2/adam.py:110: UserWarning: The `lr` argument is deprecated, use `learning_rate` instead.\n",
            "  super(Adam, self).__init__(name, **kwargs)\n"
          ]
        }
      ],
      "source": [
        "model = Model(inputs=x_inp, outputs=predictions)\n",
        "model.compile(\n",
        "    optimizer=optimizers.Adam(lr=0.01),\n",
        "    loss=losses.categorical_crossentropy,\n",
        "    metrics=[\"acc\"],\n",
        ")"
      ]
    },
    {
      "cell_type": "markdown",
      "metadata": {
        "id": "fEAcWzL8VvNF"
      },
      "source": [
        "As we're training the model, we'll want to also keep track of its generalisation performance on the validation set, which means creating another data generator, using our `FullBatchNodeGenerator` we created above."
      ]
    },
    {
      "cell_type": "code",
      "execution_count": 16,
      "metadata": {
        "id": "429D8-_zVvNF"
      },
      "outputs": [],
      "source": [
        "val_gen = generator.flow(val_subjects.index, val_targets)"
      ]
    },
    {
      "cell_type": "markdown",
      "metadata": {
        "id": "Lo56-rVfVvNG"
      },
      "source": [
        "We can directly use the `EarlyStopping` functionality to stop training if the validation accuracy stops improving."
      ]
    },
    {
      "cell_type": "code",
      "execution_count": 17,
      "metadata": {
        "id": "NrwKBK4IVvNH"
      },
      "outputs": [],
      "source": [
        "from tensorflow.keras.callbacks import EarlyStopping\n",
        "\n",
        "es_callback = EarlyStopping(monitor=\"val_acc\", patience=50, restore_best_weights=True)"
      ]
    },
    {
      "cell_type": "code",
      "execution_count": 18,
      "metadata": {
        "id": "XsCnAKKGVvNH",
        "outputId": "08c9c0f0-8056-4a32-f0c8-9cce7a3d9d97",
        "colab": {
          "base_uri": "https://localhost:8080/"
        }
      },
      "outputs": [
        {
          "output_type": "stream",
          "name": "stdout",
          "text": [
            "Epoch 1/200\n",
            "1/1 - 3s - loss: 1.9496 - acc: 0.1214 - val_loss: 1.9251 - val_acc: 0.2000 - 3s/epoch - 3s/step\n",
            "Epoch 2/200\n",
            "1/1 - 0s - loss: 1.9157 - acc: 0.2571 - val_loss: 1.8989 - val_acc: 0.2020 - 131ms/epoch - 131ms/step\n",
            "Epoch 3/200\n",
            "1/1 - 0s - loss: 1.8764 - acc: 0.2071 - val_loss: 1.8598 - val_acc: 0.2460 - 151ms/epoch - 151ms/step\n",
            "Epoch 4/200\n",
            "1/1 - 0s - loss: 1.8168 - acc: 0.2500 - val_loss: 1.8107 - val_acc: 0.2900 - 119ms/epoch - 119ms/step\n",
            "Epoch 5/200\n",
            "1/1 - 0s - loss: 1.7479 - acc: 0.2929 - val_loss: 1.7567 - val_acc: 0.2960 - 82ms/epoch - 82ms/step\n",
            "Epoch 6/200\n",
            "1/1 - 0s - loss: 1.6834 - acc: 0.3071 - val_loss: 1.7014 - val_acc: 0.3000 - 135ms/epoch - 135ms/step\n",
            "Epoch 7/200\n",
            "1/1 - 0s - loss: 1.6232 - acc: 0.3286 - val_loss: 1.6430 - val_acc: 0.3100 - 151ms/epoch - 151ms/step\n",
            "Epoch 8/200\n",
            "1/1 - 0s - loss: 1.5578 - acc: 0.3214 - val_loss: 1.5805 - val_acc: 0.3260 - 107ms/epoch - 107ms/step\n",
            "Epoch 9/200\n",
            "1/1 - 0s - loss: 1.4724 - acc: 0.4000 - val_loss: 1.5173 - val_acc: 0.3840 - 81ms/epoch - 81ms/step\n",
            "Epoch 10/200\n",
            "1/1 - 0s - loss: 1.3975 - acc: 0.4643 - val_loss: 1.4540 - val_acc: 0.4480 - 89ms/epoch - 89ms/step\n",
            "Epoch 11/200\n",
            "1/1 - 0s - loss: 1.3446 - acc: 0.4786 - val_loss: 1.3922 - val_acc: 0.5120 - 88ms/epoch - 88ms/step\n",
            "Epoch 12/200\n",
            "1/1 - 0s - loss: 1.2493 - acc: 0.5429 - val_loss: 1.3326 - val_acc: 0.5980 - 167ms/epoch - 167ms/step\n",
            "Epoch 13/200\n",
            "1/1 - 0s - loss: 1.1392 - acc: 0.6429 - val_loss: 1.2736 - val_acc: 0.6780 - 91ms/epoch - 91ms/step\n",
            "Epoch 14/200\n",
            "1/1 - 0s - loss: 1.1050 - acc: 0.6571 - val_loss: 1.2150 - val_acc: 0.7360 - 103ms/epoch - 103ms/step\n",
            "Epoch 15/200\n",
            "1/1 - 0s - loss: 0.9950 - acc: 0.7500 - val_loss: 1.1533 - val_acc: 0.7660 - 116ms/epoch - 116ms/step\n",
            "Epoch 16/200\n",
            "1/1 - 0s - loss: 0.9379 - acc: 0.7429 - val_loss: 1.0891 - val_acc: 0.7740 - 93ms/epoch - 93ms/step\n",
            "Epoch 17/200\n",
            "1/1 - 0s - loss: 0.8672 - acc: 0.8071 - val_loss: 1.0228 - val_acc: 0.7820 - 96ms/epoch - 96ms/step\n",
            "Epoch 18/200\n",
            "1/1 - 0s - loss: 0.7763 - acc: 0.7786 - val_loss: 0.9578 - val_acc: 0.7880 - 126ms/epoch - 126ms/step\n",
            "Epoch 19/200\n",
            "1/1 - 0s - loss: 0.7000 - acc: 0.8429 - val_loss: 0.8970 - val_acc: 0.7940 - 87ms/epoch - 87ms/step\n",
            "Epoch 20/200\n",
            "1/1 - 0s - loss: 0.6468 - acc: 0.8143 - val_loss: 0.8426 - val_acc: 0.8060 - 109ms/epoch - 109ms/step\n",
            "Epoch 21/200\n",
            "1/1 - 0s - loss: 0.6121 - acc: 0.8286 - val_loss: 0.7966 - val_acc: 0.8160 - 93ms/epoch - 93ms/step\n",
            "Epoch 22/200\n",
            "1/1 - 0s - loss: 0.5272 - acc: 0.8786 - val_loss: 0.7582 - val_acc: 0.8180 - 125ms/epoch - 125ms/step\n",
            "Epoch 23/200\n",
            "1/1 - 0s - loss: 0.5188 - acc: 0.8714 - val_loss: 0.7287 - val_acc: 0.8120 - 162ms/epoch - 162ms/step\n",
            "Epoch 24/200\n",
            "1/1 - 0s - loss: 0.4084 - acc: 0.9214 - val_loss: 0.7059 - val_acc: 0.8240 - 109ms/epoch - 109ms/step\n",
            "Epoch 25/200\n",
            "1/1 - 0s - loss: 0.3954 - acc: 0.9071 - val_loss: 0.6866 - val_acc: 0.8340 - 105ms/epoch - 105ms/step\n",
            "Epoch 26/200\n",
            "1/1 - 0s - loss: 0.3854 - acc: 0.9000 - val_loss: 0.6716 - val_acc: 0.8360 - 107ms/epoch - 107ms/step\n",
            "Epoch 27/200\n",
            "1/1 - 0s - loss: 0.4313 - acc: 0.8714 - val_loss: 0.6558 - val_acc: 0.8420 - 117ms/epoch - 117ms/step\n",
            "Epoch 28/200\n",
            "1/1 - 0s - loss: 0.2801 - acc: 0.9286 - val_loss: 0.6428 - val_acc: 0.8340 - 94ms/epoch - 94ms/step\n",
            "Epoch 29/200\n",
            "1/1 - 0s - loss: 0.2590 - acc: 0.9357 - val_loss: 0.6345 - val_acc: 0.8320 - 94ms/epoch - 94ms/step\n",
            "Epoch 30/200\n",
            "1/1 - 0s - loss: 0.2747 - acc: 0.9357 - val_loss: 0.6331 - val_acc: 0.8300 - 87ms/epoch - 87ms/step\n",
            "Epoch 31/200\n",
            "1/1 - 0s - loss: 0.2387 - acc: 0.9429 - val_loss: 0.6370 - val_acc: 0.8340 - 91ms/epoch - 91ms/step\n",
            "Epoch 32/200\n",
            "1/1 - 0s - loss: 0.2621 - acc: 0.9143 - val_loss: 0.6461 - val_acc: 0.8320 - 104ms/epoch - 104ms/step\n",
            "Epoch 33/200\n",
            "1/1 - 0s - loss: 0.1689 - acc: 0.9786 - val_loss: 0.6563 - val_acc: 0.8220 - 77ms/epoch - 77ms/step\n",
            "Epoch 34/200\n",
            "1/1 - 0s - loss: 0.1589 - acc: 0.9714 - val_loss: 0.6644 - val_acc: 0.8240 - 85ms/epoch - 85ms/step\n",
            "Epoch 35/200\n",
            "1/1 - 0s - loss: 0.1487 - acc: 0.9786 - val_loss: 0.6696 - val_acc: 0.8260 - 114ms/epoch - 114ms/step\n",
            "Epoch 36/200\n",
            "1/1 - 0s - loss: 0.1571 - acc: 0.9643 - val_loss: 0.6715 - val_acc: 0.8260 - 79ms/epoch - 79ms/step\n",
            "Epoch 37/200\n",
            "1/1 - 0s - loss: 0.1703 - acc: 0.9357 - val_loss: 0.6718 - val_acc: 0.8240 - 91ms/epoch - 91ms/step\n",
            "Epoch 38/200\n",
            "1/1 - 0s - loss: 0.1025 - acc: 0.9857 - val_loss: 0.6737 - val_acc: 0.8320 - 88ms/epoch - 88ms/step\n",
            "Epoch 39/200\n",
            "1/1 - 0s - loss: 0.1270 - acc: 0.9643 - val_loss: 0.6775 - val_acc: 0.8320 - 155ms/epoch - 155ms/step\n",
            "Epoch 40/200\n",
            "1/1 - 0s - loss: 0.1121 - acc: 0.9786 - val_loss: 0.6818 - val_acc: 0.8300 - 87ms/epoch - 87ms/step\n",
            "Epoch 41/200\n",
            "1/1 - 0s - loss: 0.0929 - acc: 0.9857 - val_loss: 0.6838 - val_acc: 0.8340 - 136ms/epoch - 136ms/step\n",
            "Epoch 42/200\n",
            "1/1 - 0s - loss: 0.1054 - acc: 0.9786 - val_loss: 0.6837 - val_acc: 0.8380 - 144ms/epoch - 144ms/step\n",
            "Epoch 43/200\n",
            "1/1 - 0s - loss: 0.0992 - acc: 0.9857 - val_loss: 0.6862 - val_acc: 0.8380 - 167ms/epoch - 167ms/step\n",
            "Epoch 44/200\n",
            "1/1 - 0s - loss: 0.1365 - acc: 0.9643 - val_loss: 0.6924 - val_acc: 0.8380 - 133ms/epoch - 133ms/step\n",
            "Epoch 45/200\n",
            "1/1 - 0s - loss: 0.1077 - acc: 0.9857 - val_loss: 0.7062 - val_acc: 0.8420 - 150ms/epoch - 150ms/step\n",
            "Epoch 46/200\n",
            "1/1 - 0s - loss: 0.0908 - acc: 0.9786 - val_loss: 0.7236 - val_acc: 0.8500 - 93ms/epoch - 93ms/step\n",
            "Epoch 47/200\n",
            "1/1 - 0s - loss: 0.1073 - acc: 0.9714 - val_loss: 0.7400 - val_acc: 0.8500 - 124ms/epoch - 124ms/step\n",
            "Epoch 48/200\n",
            "1/1 - 0s - loss: 0.0937 - acc: 0.9786 - val_loss: 0.7537 - val_acc: 0.8500 - 76ms/epoch - 76ms/step\n",
            "Epoch 49/200\n",
            "1/1 - 0s - loss: 0.0750 - acc: 0.9929 - val_loss: 0.7578 - val_acc: 0.8460 - 201ms/epoch - 201ms/step\n",
            "Epoch 50/200\n",
            "1/1 - 0s - loss: 0.0991 - acc: 0.9643 - val_loss: 0.7632 - val_acc: 0.8440 - 195ms/epoch - 195ms/step\n",
            "Epoch 51/200\n",
            "1/1 - 0s - loss: 0.1074 - acc: 0.9571 - val_loss: 0.7583 - val_acc: 0.8440 - 96ms/epoch - 96ms/step\n",
            "Epoch 52/200\n",
            "1/1 - 0s - loss: 0.0653 - acc: 0.9857 - val_loss: 0.7556 - val_acc: 0.8360 - 78ms/epoch - 78ms/step\n",
            "Epoch 53/200\n",
            "1/1 - 0s - loss: 0.0766 - acc: 0.9857 - val_loss: 0.7537 - val_acc: 0.8320 - 136ms/epoch - 136ms/step\n",
            "Epoch 54/200\n",
            "1/1 - 0s - loss: 0.0593 - acc: 0.9929 - val_loss: 0.7587 - val_acc: 0.8340 - 122ms/epoch - 122ms/step\n",
            "Epoch 55/200\n",
            "1/1 - 0s - loss: 0.0552 - acc: 0.9857 - val_loss: 0.7640 - val_acc: 0.8340 - 109ms/epoch - 109ms/step\n",
            "Epoch 56/200\n",
            "1/1 - 0s - loss: 0.0524 - acc: 0.9857 - val_loss: 0.7686 - val_acc: 0.8320 - 97ms/epoch - 97ms/step\n",
            "Epoch 57/200\n",
            "1/1 - 0s - loss: 0.0355 - acc: 1.0000 - val_loss: 0.7727 - val_acc: 0.8340 - 110ms/epoch - 110ms/step\n",
            "Epoch 58/200\n",
            "1/1 - 0s - loss: 0.0562 - acc: 0.9786 - val_loss: 0.7728 - val_acc: 0.8340 - 114ms/epoch - 114ms/step\n",
            "Epoch 59/200\n",
            "1/1 - 0s - loss: 0.0308 - acc: 1.0000 - val_loss: 0.7734 - val_acc: 0.8340 - 104ms/epoch - 104ms/step\n",
            "Epoch 60/200\n",
            "1/1 - 0s - loss: 0.0455 - acc: 0.9857 - val_loss: 0.7743 - val_acc: 0.8340 - 196ms/epoch - 196ms/step\n",
            "Epoch 61/200\n",
            "1/1 - 0s - loss: 0.0541 - acc: 0.9786 - val_loss: 0.7726 - val_acc: 0.8340 - 95ms/epoch - 95ms/step\n",
            "Epoch 62/200\n",
            "1/1 - 0s - loss: 0.0344 - acc: 0.9929 - val_loss: 0.7723 - val_acc: 0.8340 - 161ms/epoch - 161ms/step\n",
            "Epoch 63/200\n",
            "1/1 - 0s - loss: 0.0712 - acc: 0.9786 - val_loss: 0.7737 - val_acc: 0.8320 - 87ms/epoch - 87ms/step\n",
            "Epoch 64/200\n",
            "1/1 - 0s - loss: 0.0564 - acc: 0.9857 - val_loss: 0.7743 - val_acc: 0.8340 - 195ms/epoch - 195ms/step\n",
            "Epoch 65/200\n",
            "1/1 - 0s - loss: 0.0355 - acc: 0.9929 - val_loss: 0.7764 - val_acc: 0.8360 - 160ms/epoch - 160ms/step\n",
            "Epoch 66/200\n",
            "1/1 - 0s - loss: 0.0376 - acc: 0.9857 - val_loss: 0.7767 - val_acc: 0.8360 - 147ms/epoch - 147ms/step\n",
            "Epoch 67/200\n",
            "1/1 - 0s - loss: 0.0331 - acc: 0.9929 - val_loss: 0.7816 - val_acc: 0.8380 - 163ms/epoch - 163ms/step\n",
            "Epoch 68/200\n",
            "1/1 - 0s - loss: 0.0768 - acc: 0.9786 - val_loss: 0.7864 - val_acc: 0.8340 - 119ms/epoch - 119ms/step\n",
            "Epoch 69/200\n",
            "1/1 - 0s - loss: 0.0317 - acc: 1.0000 - val_loss: 0.7940 - val_acc: 0.8400 - 149ms/epoch - 149ms/step\n",
            "Epoch 70/200\n",
            "1/1 - 0s - loss: 0.0433 - acc: 1.0000 - val_loss: 0.7999 - val_acc: 0.8340 - 93ms/epoch - 93ms/step\n",
            "Epoch 71/200\n",
            "1/1 - 0s - loss: 0.0225 - acc: 1.0000 - val_loss: 0.8067 - val_acc: 0.8400 - 89ms/epoch - 89ms/step\n",
            "Epoch 72/200\n",
            "1/1 - 0s - loss: 0.0549 - acc: 0.9714 - val_loss: 0.8086 - val_acc: 0.8400 - 112ms/epoch - 112ms/step\n",
            "Epoch 73/200\n",
            "1/1 - 0s - loss: 0.0490 - acc: 0.9857 - val_loss: 0.8104 - val_acc: 0.8440 - 83ms/epoch - 83ms/step\n",
            "Epoch 74/200\n",
            "1/1 - 0s - loss: 0.0284 - acc: 0.9929 - val_loss: 0.8123 - val_acc: 0.8440 - 77ms/epoch - 77ms/step\n",
            "Epoch 75/200\n",
            "1/1 - 0s - loss: 0.0582 - acc: 0.9786 - val_loss: 0.8186 - val_acc: 0.8380 - 80ms/epoch - 80ms/step\n",
            "Epoch 76/200\n",
            "1/1 - 0s - loss: 0.0309 - acc: 0.9929 - val_loss: 0.8248 - val_acc: 0.8360 - 110ms/epoch - 110ms/step\n",
            "Epoch 77/200\n",
            "1/1 - 0s - loss: 0.0404 - acc: 0.9929 - val_loss: 0.8278 - val_acc: 0.8360 - 192ms/epoch - 192ms/step\n",
            "Epoch 78/200\n",
            "1/1 - 0s - loss: 0.0215 - acc: 0.9929 - val_loss: 0.8309 - val_acc: 0.8300 - 149ms/epoch - 149ms/step\n",
            "Epoch 79/200\n",
            "1/1 - 0s - loss: 0.0591 - acc: 0.9857 - val_loss: 0.8309 - val_acc: 0.8300 - 54ms/epoch - 54ms/step\n",
            "Epoch 80/200\n",
            "1/1 - 0s - loss: 0.0447 - acc: 0.9929 - val_loss: 0.8254 - val_acc: 0.8340 - 55ms/epoch - 55ms/step\n",
            "Epoch 81/200\n",
            "1/1 - 0s - loss: 0.0256 - acc: 1.0000 - val_loss: 0.8217 - val_acc: 0.8360 - 58ms/epoch - 58ms/step\n",
            "Epoch 82/200\n",
            "1/1 - 0s - loss: 0.0212 - acc: 0.9929 - val_loss: 0.8209 - val_acc: 0.8380 - 84ms/epoch - 84ms/step\n",
            "Epoch 83/200\n",
            "1/1 - 0s - loss: 0.0280 - acc: 0.9929 - val_loss: 0.8220 - val_acc: 0.8400 - 92ms/epoch - 92ms/step\n",
            "Epoch 84/200\n",
            "1/1 - 0s - loss: 0.0203 - acc: 1.0000 - val_loss: 0.8244 - val_acc: 0.8380 - 87ms/epoch - 87ms/step\n",
            "Epoch 85/200\n",
            "1/1 - 0s - loss: 0.0296 - acc: 0.9786 - val_loss: 0.8287 - val_acc: 0.8380 - 111ms/epoch - 111ms/step\n",
            "Epoch 86/200\n",
            "1/1 - 0s - loss: 0.0163 - acc: 1.0000 - val_loss: 0.8354 - val_acc: 0.8340 - 85ms/epoch - 85ms/step\n",
            "Epoch 87/200\n",
            "1/1 - 0s - loss: 0.0114 - acc: 1.0000 - val_loss: 0.8436 - val_acc: 0.8360 - 74ms/epoch - 74ms/step\n",
            "Epoch 88/200\n",
            "1/1 - 0s - loss: 0.0223 - acc: 1.0000 - val_loss: 0.8535 - val_acc: 0.8320 - 56ms/epoch - 56ms/step\n",
            "Epoch 89/200\n",
            "1/1 - 0s - loss: 0.0206 - acc: 1.0000 - val_loss: 0.8615 - val_acc: 0.8320 - 55ms/epoch - 55ms/step\n",
            "Epoch 90/200\n",
            "1/1 - 0s - loss: 0.0433 - acc: 0.9857 - val_loss: 0.8636 - val_acc: 0.8300 - 55ms/epoch - 55ms/step\n",
            "Epoch 91/200\n",
            "1/1 - 0s - loss: 0.0327 - acc: 0.9929 - val_loss: 0.8644 - val_acc: 0.8360 - 81ms/epoch - 81ms/step\n",
            "Epoch 92/200\n",
            "1/1 - 0s - loss: 0.0204 - acc: 0.9929 - val_loss: 0.8655 - val_acc: 0.8360 - 83ms/epoch - 83ms/step\n",
            "Epoch 93/200\n",
            "1/1 - 0s - loss: 0.0095 - acc: 1.0000 - val_loss: 0.8655 - val_acc: 0.8340 - 106ms/epoch - 106ms/step\n",
            "Epoch 94/200\n",
            "1/1 - 0s - loss: 0.0151 - acc: 1.0000 - val_loss: 0.8654 - val_acc: 0.8340 - 134ms/epoch - 134ms/step\n",
            "Epoch 95/200\n",
            "1/1 - 0s - loss: 0.0421 - acc: 0.9857 - val_loss: 0.8596 - val_acc: 0.8360 - 108ms/epoch - 108ms/step\n",
            "Epoch 96/200\n",
            "1/1 - 0s - loss: 0.0302 - acc: 0.9929 - val_loss: 0.8549 - val_acc: 0.8380 - 180ms/epoch - 180ms/step\n"
          ]
        }
      ],
      "source": [
        "history = model.fit(\n",
        "    train_gen,\n",
        "    epochs=200,\n",
        "    validation_data=val_gen,\n",
        "    verbose=2,\n",
        "    shuffle=False,  # this should be False, since shuffling data means shuffling the whole graph\n",
        "    callbacks=[es_callback],\n",
        ")"
      ]
    },
    {
      "cell_type": "markdown",
      "metadata": {
        "id": "hIW3fCaDVvNH"
      },
      "source": [
        "## Graph Plotting\n",
        "\n"
      ]
    },
    {
      "cell_type": "code",
      "execution_count": 19,
      "metadata": {
        "id": "tToqY9IgVvNH",
        "outputId": "ceb1644b-02f4-4873-ce28-7d347bfff993",
        "colab": {
          "base_uri": "https://localhost:8080/",
          "height": 585
        }
      },
      "outputs": [
        {
          "output_type": "display_data",
          "data": {
            "text/plain": [
              "<Figure size 504x576 with 2 Axes>"
            ],
            "image/png": "[encoded data removed]"
          },
          "metadata": {
            "needs_background": "light"
          }
        }
      ],
      "source": [
        "sg.utils.plot_history(history)"
      ]
    },
    {
      "cell_type": "markdown",
      "metadata": {
        "id": "Z8bB5b3KVvNJ"
      },
      "source": [
        "As the final part of our evaluation, let's check the model against the test set. We again create the data required for this using the `flow` method on our `FullBatchNodeGenerator` from above, and can use the model's `evaluate` method to compute the metric values for the trained model.\n",
        "\n",
        "As expected, the model performs similarly on the validation set during training and on the test set here."
      ]
    },
    {
      "cell_type": "code",
      "execution_count": 20,
      "metadata": {
        "id": "029NXdnkVvNJ"
      },
      "outputs": [],
      "source": [
        "test_gen = generator.flow(test_subjects.index, test_targets)"
      ]
    },
    {
      "cell_type": "code",
      "execution_count": 21,
      "metadata": {
        "id": "cfyBhDdAVvNJ",
        "outputId": "ebdd234d-7137-4bde-99fc-b31dde44283c",
        "colab": {
          "base_uri": "https://localhost:8080/"
        }
      },
      "outputs": [
        {
          "output_type": "stream",
          "name": "stdout",
          "text": [
            "1/1 [==============================] - 0s 73ms/step - loss: 0.7819 - acc: 0.8056\n",
            "\n",
            "Test Set Metrics:\n",
            "\tloss: 0.7819\n",
            "\tacc: 0.8056\n"
          ]
        }
      ],
      "source": [
        "test_metrics = model.evaluate(test_gen)\n",
        "print(\"\\nTest Set Metrics:\")\n",
        "for name, val in zip(model.metrics_names, test_metrics):\n",
        "    print(\"\\t{}: {:0.4f}\".format(name, val))"
      ]
    },
    {
      "cell_type": "markdown",
      "metadata": {
        "id": "UF9EHEH3VvNK"
      },
      "source": [
        "### Making predictions with the model"
      ]
    },
    {
      "cell_type": "code",
      "execution_count": 22,
      "metadata": {
        "id": "iMpqNM2vVvNL",
        "colab": {
          "base_uri": "https://localhost:8080/"
        },
        "outputId": "9e8e86b5-ca80-4a61-9d08-2604f5d74e86"
      },
      "outputs": [
        {
          "output_type": "stream",
          "name": "stdout",
          "text": [
            "1/1 [==============================] - 0s 313ms/step\n"
          ]
        }
      ],
      "source": [
        "all_nodes = node_subjects.index\n",
        "all_gen = generator.flow(all_nodes)\n",
        "all_predictions = model.predict(all_gen)"
      ]
    },
    {
      "cell_type": "markdown",
      "metadata": {
        "id": "rVW-3czeVvNL"
      },
      "source": [
        "These predictions will be the output of the softmax layer, so to get final categories we'll use the `inverse_transform` method of our target attribute specification to turn these values back to the original categories."
      ]
    },
    {
      "cell_type": "code",
      "execution_count": 23,
      "metadata": {
        "id": "k-_2cU12VvNL"
      },
      "outputs": [],
      "source": [
        "node_predictions = target_encoding.inverse_transform(all_predictions.squeeze())"
      ]
    },
    {
      "cell_type": "markdown",
      "metadata": {
        "id": "1NCoOsciVvNM"
      },
      "source": [
        "Let's have a look at a few predictions after training the model:"
      ]
    },
    {
      "cell_type": "code",
      "execution_count": 24,
      "metadata": {
        "id": "4DGImMDnVvNM",
        "outputId": "164b7519-4207-4ae1-db75-742926686503",
        "colab": {
          "base_uri": "https://localhost:8080/",
          "height": 677
        }
      },
      "outputs": [
        {
          "output_type": "execute_result",
          "data": {
            "text/plain": [
              "                      Predicted                    True\n",
              "31336           Neural_Networks         Neural_Networks\n",
              "1061127           Rule_Learning           Rule_Learning\n",
              "1106406  Reinforcement_Learning  Reinforcement_Learning\n",
              "13195    Reinforcement_Learning  Reinforcement_Learning\n",
              "37879     Probabilistic_Methods   Probabilistic_Methods\n",
              "1126012   Probabilistic_Methods   Probabilistic_Methods\n",
              "1107140  Reinforcement_Learning                  Theory\n",
              "1102850         Neural_Networks         Neural_Networks\n",
              "31349           Neural_Networks         Neural_Networks\n",
              "1106418                  Theory                  Theory\n",
              "1123188   Probabilistic_Methods         Neural_Networks\n",
              "1128990      Genetic_Algorithms      Genetic_Algorithms\n",
              "109323    Probabilistic_Methods   Probabilistic_Methods\n",
              "217139               Case_Based              Case_Based\n",
              "31353           Neural_Networks         Neural_Networks\n",
              "32083           Neural_Networks         Neural_Networks\n",
              "1126029  Reinforcement_Learning  Reinforcement_Learning\n",
              "1118017         Neural_Networks         Neural_Networks\n",
              "49482           Neural_Networks         Neural_Networks\n",
              "753265    Probabilistic_Methods         Neural_Networks"
            ],
            "text/html": [
              "\n",
              "  <div id=\"df-24cbc5af-0735-40f4-9734-919bc21dacef\">\n",
              "    <div class=\"colab-df-container\">\n",
              "      <div>\n",
              "<style scoped>\n",
              "    .dataframe tbody tr th:only-of-type {\n",
              "        vertical-align: middle;\n",
              "    }\n",
              "\n",
              "    .dataframe tbody tr th {\n",
              "        vertical-align: top;\n",
              "    }\n",
              "\n",
              "    .dataframe thead th {\n",
              "        text-align: right;\n",
              "    }\n",
              "</style>\n",
              "<table border=\"1\" class=\"dataframe\">\n",
              "  <thead>\n",
              "    <tr style=\"text-align: right;\">\n",
              "      <th></th>\n",
              "      <th>Predicted</th>\n",
              "      <th>True</th>\n",
              "    </tr>\n",
              "  </thead>\n",
              "  <tbody>\n",
              "    <tr>\n",
              "      <th>31336</th>\n",
              "      <td>Neural_Networks</td>\n",
              "      <td>Neural_Networks</td>\n",
              "    </tr>\n",
              "    <tr>\n",
              "      <th>1061127</th>\n",
              "      <td>Rule_Learning</td>\n",
              "      <td>Rule_Learning</td>\n",
              "    </tr>\n",
              "    <tr>\n",
              "      <th>1106406</th>\n",
              "      <td>Reinforcement_Learning</td>\n",
              "      <td>Reinforcement_Learning</td>\n",
              "    </tr>\n",
              "    <tr>\n",
              "      <th>13195</th>\n",
              "      <td>Reinforcement_Learning</td>\n",
              "      <td>Reinforcement_Learning</td>\n",
              "    </tr>\n",
              "    <tr>\n",
              "      <th>37879</th>\n",
              "      <td>Probabilistic_Methods</td>\n",
              "      <td>Probabilistic_Methods</td>\n",
              "    </tr>\n",
              "    <tr>\n",
              "      <th>1126012</th>\n",
              "      <td>Probabilistic_Methods</td>\n",
              "      <td>Probabilistic_Methods</td>\n",
              "    </tr>\n",
              "    <tr>\n",
              "      <th>1107140</th>\n",
              "      <td>Reinforcement_Learning</td>\n",
              "      <td>Theory</td>\n",
              "    </tr>\n",
              "    <tr>\n",
              "      <th>1102850</th>\n",
              "      <td>Neural_Networks</td>\n",
              "      <td>Neural_Networks</td>\n",
              "    </tr>\n",
              "    <tr>\n",
              "      <th>31349</th>\n",
              "      <td>Neural_Networks</td>\n",
              "      <td>Neural_Networks</td>\n",
              "    </tr>\n",
              "    <tr>\n",
              "      <th>1106418</th>\n",
              "      <td>Theory</td>\n",
              "      <td>Theory</td>\n",
              "    </tr>\n",
              "    <tr>\n",
              "      <th>1123188</th>\n",
              "      <td>Probabilistic_Methods</td>\n",
              "      <td>Neural_Networks</td>\n",
              "    </tr>\n",
              "    <tr>\n",
              "      <th>1128990</th>\n",
              "      <td>Genetic_Algorithms</td>\n",
              "      <td>Genetic_Algorithms</td>\n",
              "    </tr>\n",
              "    <tr>\n",
              "      <th>109323</th>\n",
              "      <td>Probabilistic_Methods</td>\n",
              "      <td>Probabilistic_Methods</td>\n",
              "    </tr>\n",
              "    <tr>\n",
              "      <th>217139</th>\n",
              "      <td>Case_Based</td>\n",
              "      <td>Case_Based</td>\n",
              "    </tr>\n",
              "    <tr>\n",
              "      <th>31353</th>\n",
              "      <td>Neural_Networks</td>\n",
              "      <td>Neural_Networks</td>\n",
              "    </tr>\n",
              "    <tr>\n",
              "      <th>32083</th>\n",
              "      <td>Neural_Networks</td>\n",
              "      <td>Neural_Networks</td>\n",
              "    </tr>\n",
              "    <tr>\n",
              "      <th>1126029</th>\n",
              "      <td>Reinforcement_Learning</td>\n",
              "      <td>Reinforcement_Learning</td>\n",
              "    </tr>\n",
              "    <tr>\n",
              "      <th>1118017</th>\n",
              "      <td>Neural_Networks</td>\n",
              "      <td>Neural_Networks</td>\n",
              "    </tr>\n",
              "    <tr>\n",
              "      <th>49482</th>\n",
              "      <td>Neural_Networks</td>\n",
              "      <td>Neural_Networks</td>\n",
              "    </tr>\n",
              "    <tr>\n",
              "      <th>753265</th>\n",
              "      <td>Probabilistic_Methods</td>\n",
              "      <td>Neural_Networks</td>\n",
              "    </tr>\n",
              "  </tbody>\n",
              "</table>\n",
              "</div>\n",
              "      <button class=\"colab-df-convert\" onclick=\"convertToInteractive('df-24cbc5af-0735-40f4-9734-919bc21dacef')\"\n",
              "              title=\"Convert this dataframe to an interactive table.\"\n",
              "              style=\"display:none;\">\n",
              "        \n",
              "  <svg xmlns=\"http://www.w3.org/2000/svg\" height=\"24px\"viewBox=\"0 0 24 24\"\n",
              "       width=\"24px\">\n",
              "    <path d=\"M0 0h24v24H0V0z\" fill=\"none\"/>\n",
              "    <path d=\"M18.56 5.44l.94 2.06.94-2.06 2.06-.94-2.06-.94-.94-2.06-.94 2.06-2.06.94zm-11 1L8.5 8.5l.94-2.06 2.06-.94-2.06-.94L8.5 2.5l-.94 2.06-2.06.94zm10 10l.94 2.06.94-2.06 2.06-.94-2.06-.94-.94-2.06-.94 2.06-2.06.94z\"/><path d=\"M17.41 7.96l-1.37-1.37c-.4-.4-.92-.59-1.43-.59-.52 0-1.04.2-1.43.59L10.3 9.45l-7.72 7.72c-.78.78-.78 2.05 0 2.83L4 21.41c.39.39.9.59 1.41.59.51 0 1.02-.2 1.41-.59l7.78-7.78 2.81-2.81c.8-.78.8-2.07 0-2.86zM5.41 20L4 18.59l7.72-7.72 1.47 1.35L5.41 20z\"/>\n",
              "  </svg>\n",
              "      </button>\n",
              "      \n",
              "  <style>\n",
              "    .colab-df-container {\n",
              "      display:flex;\n",
              "      flex-wrap:wrap;\n",
              "      gap: 12px;\n",
              "    }\n",
              "\n",
              "    .colab-df-convert {\n",
              "      background-color: #E8F0FE;\n",
              "      border: none;\n",
              "      border-radius: 50%;\n",
              "      cursor: pointer;\n",
              "      display: none;\n",
              "      fill: #1967D2;\n",
              "      height: 32px;\n",
              "      padding: 0 0 0 0;\n",
              "      width: 32px;\n",
              "    }\n",
              "\n",
              "    .colab-df-convert:hover {\n",
              "      background-color: #E2EBFA;\n",
              "      box-shadow: 0px 1px 2px rgba(60, 64, 67, 0.3), 0px 1px 3px 1px rgba(60, 64, 67, 0.15);\n",
              "      fill: #174EA6;\n",
              "    }\n",
              "\n",
              "    [theme=dark] .colab-df-convert {\n",
              "      background-color: #3B4455;\n",
              "      fill: #D2E3FC;\n",
              "    }\n",
              "\n",
              "    [theme=dark] .colab-df-convert:hover {\n",
              "      background-color: #434B5C;\n",
              "      box-shadow: 0px 1px 3px 1px rgba(0, 0, 0, 0.15);\n",
              "      filter: drop-shadow(0px 1px 2px rgba(0, 0, 0, 0.3));\n",
              "      fill: #FFFFFF;\n",
              "    }\n",
              "  </style>\n",
              "\n",
              "      <script>\n",
              "        const buttonEl =\n",
              "          document.querySelector('#df-24cbc5af-0735-40f4-9734-919bc21dacef button.colab-df-convert');\n",
              "        buttonEl.style.display =\n",
              "          google.colab.kernel.accessAllowed ? 'block' : 'none';\n",
              "\n",
              "        async function convertToInteractive(key) {\n",
              "          const element = document.querySelector('#df-24cbc5af-0735-40f4-9734-919bc21dacef');\n",
              "          const dataTable =\n",
              "            await google.colab.kernel.invokeFunction('convertToInteractive',\n",
              "                                                     [key], {});\n",
              "          if (!dataTable) return;\n",
              "\n",
              "          const docLinkHtml = 'Like what you see? Visit the ' +\n",
              "            '<a target=\"_blank\" href=https://colab.research.google.com/notebooks/data_table.ipynb>data table notebook</a>'\n",
              "            + ' to learn more about interactive tables.';\n",
              "          element.innerHTML = '';\n",
              "          dataTable['output_type'] = 'display_data';\n",
              "          await google.colab.output.renderOutput(dataTable, element);\n",
              "          const docLink = document.createElement('div');\n",
              "          docLink.innerHTML = docLinkHtml;\n",
              "          element.appendChild(docLink);\n",
              "        }\n",
              "      </script>\n",
              "    </div>\n",
              "  </div>\n",
              "  "
            ]
          },
          "metadata": {},
          "execution_count": 24
        }
      ],
      "source": [
        "df = pd.DataFrame({\"Predicted\": node_predictions, \"True\": node_subjects})\n",
        "df.head(20)"
      ]
    },
    {
      "cell_type": "markdown",
      "metadata": {
        "id": "EMpBxmKwVvNS"
      },
      "source": [
        "## Conclusion\n",
        "\n",
        "This notebook gave an example using the GCN algorithm to predict the class of nodes. Specifically, the subject of an academic paper in the Cora dataset. Our model used:\n",
        "\n",
        "- the graph structure of the dataset, in the form of citation links between papers\n",
        "- the 1433-dimensional feature vectors associated with each paper\n",
        "\n",
        "This notebook ran through the following steps:\n",
        "\n",
        "1. prepared the data using common data science libraries\n",
        "2. built a TensorFlow Keras model and data generator with [the StellarGraph library](https://github.com/stellargraph/stellargraph) \n",
        "3. trained and evaluated it using TensorFlow and other libraries"
      ]
    },
    {
      "cell_type": "markdown",
      "source": [
        "#Node classification with Graph ATention Network (GAT)"
      ],
      "metadata": {
        "id": "Fr7Wrctcb1kX"
      }
    },
    {
      "cell_type": "markdown",
      "source": [
        "Install NetworkX & stellar"
      ],
      "metadata": {
        "id": "aSM9t3vocZpx"
      }
    },
    {
      "cell_type": "code",
      "source": [
        "# install StellarGraph if running on Google Colab\n",
        "import sys\n",
        "if 'google.colab' in sys.modules:\n",
        "  %pip install -q stellargraph[demos]==1.2.1"
      ],
      "metadata": {
        "id": "mBexANBvcl09"
      },
      "execution_count": 25,
      "outputs": []
    },
    {
      "cell_type": "code",
      "source": [
        "# verify that we're using the correct version of StellarGraph for this notebook\n",
        "import stellargraph as sg\n",
        "\n",
        "try:\n",
        "    sg.utils.validate_notebook_version(\"1.2.1\")\n",
        "except AttributeError:\n",
        "    raise ValueError(\n",
        "        f\"This notebook requires StellarGraph version 1.2.1, but a different version {sg.__version__} is installed.  Please see <https://github.com/stellargraph/stellargraph/issues/1172>.\"\n",
        "    ) from None"
      ],
      "metadata": {
        "id": "6LjH7P5hcmo8"
      },
      "execution_count": 26,
      "outputs": []
    },
    {
      "cell_type": "markdown",
      "source": [
        "## Importing Libraries"
      ],
      "metadata": {
        "id": "ZSlQ5ch3cs8R"
      }
    },
    {
      "cell_type": "code",
      "source": [
        "import networkx as nx\n",
        "import pandas as pd\n",
        "import os\n",
        "\n",
        "import stellargraph as sg\n",
        "from stellargraph.mapper import FullBatchNodeGenerator\n",
        "from stellargraph.layer import GAT\n",
        "\n",
        "from tensorflow.keras import layers, optimizers, losses, metrics, Model\n",
        "from sklearn import preprocessing, feature_extraction, model_selection\n",
        "from stellargraph import datasets\n",
        "from IPython.display import display, HTML\n",
        "import matplotlib.pyplot as plt\n",
        "%matplotlib inline"
      ],
      "metadata": {
        "id": "EK1ZeNkXcmmd"
      },
      "execution_count": 27,
      "outputs": []
    },
    {
      "cell_type": "markdown",
      "source": [
        "## Loading the CORA network"
      ],
      "metadata": {
        "id": "a1lIwJM2czFo"
      }
    },
    {
      "cell_type": "code",
      "source": [
        "dataset = datasets.Cora()\n",
        "display(HTML(dataset.description))\n",
        "G, node_subjects = dataset.load()"
      ],
      "metadata": {
        "colab": {
          "base_uri": "https://localhost:8080/",
          "height": 52
        },
        "id": "XYF7omkvcmjw",
        "outputId": "6f0389d6-905d-46a1-8230-52d93b36cd53"
      },
      "execution_count": 28,
      "outputs": [
        {
          "output_type": "display_data",
          "data": {
            "text/plain": [
              "<IPython.core.display.HTML object>"
            ],
            "text/html": [
              "The Cora dataset consists of 2708 scientific publications classified into one of seven classes. The citation network consists of 5429 links. Each publication in the dataset is described by a 0/1-valued word vector indicating the absence/presence of the corresponding word from the dictionary. The dictionary consists of 1433 unique words."
            ]
          },
          "metadata": {}
        }
      ]
    },
    {
      "cell_type": "code",
      "source": [
        "print(G.info())"
      ],
      "metadata": {
        "colab": {
          "base_uri": "https://localhost:8080/"
        },
        "id": "aAV28dPqcmhL",
        "outputId": "d8a39dcd-647a-4b9b-e27f-e98bf24b100d"
      },
      "execution_count": 29,
      "outputs": [
        {
          "output_type": "stream",
          "name": "stdout",
          "text": [
            "StellarGraph: Undirected multigraph\n",
            " Nodes: 2708, Edges: 5429\n",
            "\n",
            " Node types:\n",
            "  paper: [2708]\n",
            "    Features: float32 vector, length 1433\n",
            "    Edge types: paper-cites->paper\n",
            "\n",
            " Edge types:\n",
            "    paper-cites->paper: [5429]\n",
            "        Weights: all 1 (default)\n",
            "        Features: none\n"
          ]
        }
      ]
    },
    {
      "cell_type": "markdown",
      "source": [
        "We aim to train a graph-ML model that will predict the \"subject\" attribute on the nodes. These subjects are one of 7 categories:"
      ],
      "metadata": {
        "id": "6dBrA7usc-Ql"
      }
    },
    {
      "cell_type": "code",
      "source": [
        "set(node_subjects)"
      ],
      "metadata": {
        "colab": {
          "base_uri": "https://localhost:8080/"
        },
        "id": "d9u_APeTcmem",
        "outputId": "954cf2e7-6309-46ea-c525-9445d6b53191"
      },
      "execution_count": 30,
      "outputs": [
        {
          "output_type": "execute_result",
          "data": {
            "text/plain": [
              "{'Case_Based',\n",
              " 'Genetic_Algorithms',\n",
              " 'Neural_Networks',\n",
              " 'Probabilistic_Methods',\n",
              " 'Reinforcement_Learning',\n",
              " 'Rule_Learning',\n",
              " 'Theory'}"
            ]
          },
          "metadata": {},
          "execution_count": 30
        }
      ]
    },
    {
      "cell_type": "markdown",
      "source": [
        "### Splitting the data\n",
        "\n",
        "\n",
        "---\n",
        "For machine learning we want to take a subset of the nodes for training, and use the rest for validation and testing. We'll use scikit-learn again to do this.\n",
        "\n",
        "Here we're taking 140 node labels for training, 500 for validation, and the rest for testing.\n"
      ],
      "metadata": {
        "id": "UsxJNSK1dFd6"
      }
    },
    {
      "cell_type": "code",
      "source": [
        "train_subjects, test_subjects = model_selection.train_test_split(\n",
        "    node_subjects, train_size=140, test_size=None, stratify=node_subjects\n",
        ")\n",
        "val_subjects, test_subjects = model_selection.train_test_split(\n",
        "    test_subjects, train_size=500, test_size=None, stratify=test_subjects\n",
        ")"
      ],
      "metadata": {
        "id": "45MrMfQGcmcD"
      },
      "execution_count": 31,
      "outputs": []
    },
    {
      "cell_type": "markdown",
      "source": [
        "Note using stratified sampling gives the following counts:"
      ],
      "metadata": {
        "id": "rpsrsFLsdN7Z"
      }
    },
    {
      "cell_type": "code",
      "source": [
        "from collections import Counter\n",
        "\n",
        "Counter(train_subjects)"
      ],
      "metadata": {
        "colab": {
          "base_uri": "https://localhost:8080/"
        },
        "id": "okpIohMkcmZS",
        "outputId": "1ea3e308-2ffe-4c72-e7a8-5d5f9e5f0d99"
      },
      "execution_count": 32,
      "outputs": [
        {
          "output_type": "execute_result",
          "data": {
            "text/plain": [
              "Counter({'Probabilistic_Methods': 22,\n",
              "         'Neural_Networks': 42,\n",
              "         'Genetic_Algorithms': 22,\n",
              "         'Theory': 18,\n",
              "         'Case_Based': 16,\n",
              "         'Reinforcement_Learning': 11,\n",
              "         'Rule_Learning': 9})"
            ]
          },
          "metadata": {},
          "execution_count": 32
        }
      ]
    },
    {
      "cell_type": "markdown",
      "source": [
        "### Converting to numeric arrays\n",
        "\n",
        "\n",
        "---\n",
        "\n",
        "For our categorical target, we will use one-hot vectors that will be fed into a soft-max Keras layer during training. To do this conversion ..."
      ],
      "metadata": {
        "id": "u8J_z-TMdVxU"
      }
    },
    {
      "cell_type": "code",
      "source": [
        "target_encoding = preprocessing.LabelBinarizer()\n",
        "\n",
        "train_targets = target_encoding.fit_transform(train_subjects)\n",
        "val_targets = target_encoding.transform(val_subjects)\n",
        "test_targets = target_encoding.transform(test_subjects)"
      ],
      "metadata": {
        "id": "XV2B-nYXcmWp"
      },
      "execution_count": 33,
      "outputs": []
    },
    {
      "cell_type": "markdown",
      "source": [
        "## Creating the GAT model in Keras\n",
        "\n",
        "---\n",
        "\n",
        "\n",
        "To feed data from the graph to the Keras model we need a generator. Since GAT is a full-batch model, we use the FullBatchNodeGenerator class to feed node features and graph adjacency matrix to the model."
      ],
      "metadata": {
        "id": "knwMQtFEdgmf"
      }
    },
    {
      "cell_type": "code",
      "source": [
        "generator = FullBatchNodeGenerator(G, method=\"gat\")"
      ],
      "metadata": {
        "id": "3Tuz4nPHcmUa"
      },
      "execution_count": 34,
      "outputs": []
    },
    {
      "cell_type": "code",
      "source": [
        "train_gen = generator.flow(train_subjects.index, train_targets)"
      ],
      "metadata": {
        "id": "iQJbacHqcmR3"
      },
      "execution_count": 35,
      "outputs": []
    },
    {
      "cell_type": "code",
      "source": [
        "gat = GAT(\n",
        "    layer_sizes=[8, train_targets.shape[1]],\n",
        "    activations=[\"elu\", \"softmax\"],\n",
        "    attn_heads=8,\n",
        "    generator=generator,\n",
        "    in_dropout=0.5,\n",
        "    attn_dropout=0.5,\n",
        "    normalize=None,\n",
        ")"
      ],
      "metadata": {
        "id": "GMnlfs50dtMA"
      },
      "execution_count": 36,
      "outputs": []
    },
    {
      "cell_type": "markdown",
      "source": [
        "Expose the input and output tensors of the GAT model for node prediction, via GAT.in_out_tensors() method:"
      ],
      "metadata": {
        "id": "an8aINthd0_Q"
      }
    },
    {
      "cell_type": "code",
      "source": [
        "x_inp, predictions = gat.in_out_tensors()"
      ],
      "metadata": {
        "id": "KDV_Y_TsdtJE"
      },
      "execution_count": 37,
      "outputs": []
    },
    {
      "cell_type": "markdown",
      "source": [
        "### Training the model"
      ],
      "metadata": {
        "id": "HnVLldmJd5e6"
      }
    },
    {
      "cell_type": "code",
      "source": [
        "model = Model(inputs=x_inp, outputs=predictions)\n",
        "model.compile(\n",
        "    optimizer=optimizers.Adam(lr=0.005),\n",
        "    loss=losses.categorical_crossentropy,\n",
        "    metrics=[\"acc\"],\n",
        ")"
      ],
      "metadata": {
        "colab": {
          "base_uri": "https://localhost:8080/"
        },
        "id": "a8xXqBa5d0Bs",
        "outputId": "31b85134-112f-4f89-e61b-a2383846fbbc"
      },
      "execution_count": 38,
      "outputs": [
        {
          "output_type": "stream",
          "name": "stderr",
          "text": [
            "/usr/local/lib/python3.7/dist-packages/keras/optimizers/optimizer_v2/adam.py:110: UserWarning: The `lr` argument is deprecated, use `learning_rate` instead.\n",
            "  super(Adam, self).__init__(name, **kwargs)\n"
          ]
        }
      ]
    },
    {
      "cell_type": "code",
      "source": [
        "val_gen = generator.flow(val_subjects.index, val_targets)"
      ],
      "metadata": {
        "id": "hbcH27FwdtGD"
      },
      "execution_count": 39,
      "outputs": []
    },
    {
      "cell_type": "code",
      "source": [
        "from tensorflow.keras.callbacks import EarlyStopping, ModelCheckpoint\n",
        "\n",
        "if not os.path.isdir(\"logs\"):\n",
        "    os.makedirs(\"logs\")\n",
        "es_callback = EarlyStopping(\n",
        "    monitor=\"val_acc\", patience=20\n",
        ")  # patience is the number of epochs to wait before early stopping in case of no further improvement\n",
        "mc_callback = ModelCheckpoint(\n",
        "    \"logs/best_model.h5\", monitor=\"val_acc\", save_best_only=True, save_weights_only=True\n",
        ")"
      ],
      "metadata": {
        "id": "BvRNhwMadtDE"
      },
      "execution_count": 40,
      "outputs": []
    },
    {
      "cell_type": "code",
      "source": [
        "history = model.fit(\n",
        "    train_gen,\n",
        "    epochs=50,\n",
        "    validation_data=val_gen,\n",
        "    verbose=2,\n",
        "    shuffle=False,  # this should be False, since shuffling data means shuffling the whole graph\n",
        "    callbacks=[es_callback, mc_callback],\n",
        ")"
      ],
      "metadata": {
        "colab": {
          "base_uri": "https://localhost:8080/"
        },
        "id": "wAdEVw27eFl9",
        "outputId": "11bc81e1-9bed-4764-fc71-bfc66b68d055"
      },
      "execution_count": 41,
      "outputs": [
        {
          "output_type": "stream",
          "name": "stdout",
          "text": [
            "Epoch 1/50\n",
            "1/1 - 4s - loss: 1.9754 - acc: 0.1500 - val_loss: 1.8385 - val_acc: 0.4960 - 4s/epoch - 4s/step\n",
            "Epoch 2/50\n",
            "1/1 - 0s - loss: 1.8042 - acc: 0.3500 - val_loss: 1.7397 - val_acc: 0.5120 - 179ms/epoch - 179ms/step\n",
            "Epoch 3/50\n",
            "1/1 - 0s - loss: 1.6843 - acc: 0.4643 - val_loss: 1.6538 - val_acc: 0.5020 - 159ms/epoch - 159ms/step\n",
            "Epoch 4/50\n",
            "1/1 - 0s - loss: 1.5935 - acc: 0.4857 - val_loss: 1.5778 - val_acc: 0.5140 - 241ms/epoch - 241ms/step\n",
            "Epoch 5/50\n",
            "1/1 - 0s - loss: 1.5492 - acc: 0.4857 - val_loss: 1.5104 - val_acc: 0.5400 - 212ms/epoch - 212ms/step\n",
            "Epoch 6/50\n",
            "1/1 - 0s - loss: 1.3856 - acc: 0.5857 - val_loss: 1.4477 - val_acc: 0.5580 - 221ms/epoch - 221ms/step\n",
            "Epoch 7/50\n",
            "1/1 - 0s - loss: 1.4168 - acc: 0.5286 - val_loss: 1.3890 - val_acc: 0.5880 - 221ms/epoch - 221ms/step\n",
            "Epoch 8/50\n",
            "1/1 - 0s - loss: 1.2442 - acc: 0.6071 - val_loss: 1.3342 - val_acc: 0.6100 - 247ms/epoch - 247ms/step\n",
            "Epoch 9/50\n",
            "1/1 - 0s - loss: 1.2187 - acc: 0.7214 - val_loss: 1.2821 - val_acc: 0.6440 - 217ms/epoch - 217ms/step\n",
            "Epoch 10/50\n",
            "1/1 - 0s - loss: 1.1706 - acc: 0.6786 - val_loss: 1.2331 - val_acc: 0.6720 - 203ms/epoch - 203ms/step\n",
            "Epoch 11/50\n",
            "1/1 - 0s - loss: 1.0691 - acc: 0.6643 - val_loss: 1.1891 - val_acc: 0.7140 - 244ms/epoch - 244ms/step\n",
            "Epoch 12/50\n",
            "1/1 - 0s - loss: 1.0777 - acc: 0.7857 - val_loss: 1.1490 - val_acc: 0.7400 - 237ms/epoch - 237ms/step\n",
            "Epoch 13/50\n",
            "1/1 - 0s - loss: 1.0419 - acc: 0.7357 - val_loss: 1.1116 - val_acc: 0.7600 - 299ms/epoch - 299ms/step\n",
            "Epoch 14/50\n",
            "1/1 - 0s - loss: 0.8843 - acc: 0.8143 - val_loss: 1.0768 - val_acc: 0.7820 - 213ms/epoch - 213ms/step\n",
            "Epoch 15/50\n",
            "1/1 - 0s - loss: 0.9287 - acc: 0.8000 - val_loss: 1.0439 - val_acc: 0.7940 - 326ms/epoch - 326ms/step\n",
            "Epoch 16/50\n",
            "1/1 - 0s - loss: 0.8004 - acc: 0.8500 - val_loss: 1.0117 - val_acc: 0.7980 - 216ms/epoch - 216ms/step\n",
            "Epoch 17/50\n",
            "1/1 - 0s - loss: 0.8095 - acc: 0.8214 - val_loss: 0.9824 - val_acc: 0.7980 - 167ms/epoch - 167ms/step\n",
            "Epoch 18/50\n",
            "1/1 - 0s - loss: 0.7861 - acc: 0.8429 - val_loss: 0.9545 - val_acc: 0.7980 - 217ms/epoch - 217ms/step\n",
            "Epoch 19/50\n",
            "1/1 - 0s - loss: 0.8449 - acc: 0.7929 - val_loss: 0.9292 - val_acc: 0.7980 - 228ms/epoch - 228ms/step\n",
            "Epoch 20/50\n",
            "1/1 - 0s - loss: 0.7267 - acc: 0.8429 - val_loss: 0.9069 - val_acc: 0.7980 - 180ms/epoch - 180ms/step\n",
            "Epoch 21/50\n",
            "1/1 - 0s - loss: 0.7410 - acc: 0.8286 - val_loss: 0.8867 - val_acc: 0.7980 - 182ms/epoch - 182ms/step\n",
            "Epoch 22/50\n",
            "1/1 - 0s - loss: 0.7773 - acc: 0.8000 - val_loss: 0.8689 - val_acc: 0.7980 - 184ms/epoch - 184ms/step\n",
            "Epoch 23/50\n",
            "1/1 - 0s - loss: 0.8018 - acc: 0.7500 - val_loss: 0.8540 - val_acc: 0.7980 - 174ms/epoch - 174ms/step\n",
            "Epoch 24/50\n",
            "1/1 - 0s - loss: 0.6471 - acc: 0.8643 - val_loss: 0.8402 - val_acc: 0.8000 - 269ms/epoch - 269ms/step\n",
            "Epoch 25/50\n",
            "1/1 - 0s - loss: 0.6248 - acc: 0.8929 - val_loss: 0.8258 - val_acc: 0.8020 - 276ms/epoch - 276ms/step\n",
            "Epoch 26/50\n",
            "1/1 - 0s - loss: 0.6323 - acc: 0.8429 - val_loss: 0.8117 - val_acc: 0.7980 - 171ms/epoch - 171ms/step\n",
            "Epoch 27/50\n",
            "1/1 - 0s - loss: 0.5791 - acc: 0.8571 - val_loss: 0.7991 - val_acc: 0.8020 - 152ms/epoch - 152ms/step\n",
            "Epoch 28/50\n",
            "1/1 - 0s - loss: 0.4861 - acc: 0.8786 - val_loss: 0.7878 - val_acc: 0.8000 - 238ms/epoch - 238ms/step\n",
            "Epoch 29/50\n",
            "1/1 - 0s - loss: 0.5797 - acc: 0.8500 - val_loss: 0.7781 - val_acc: 0.8000 - 181ms/epoch - 181ms/step\n",
            "Epoch 30/50\n",
            "1/1 - 0s - loss: 0.5449 - acc: 0.8929 - val_loss: 0.7696 - val_acc: 0.8000 - 187ms/epoch - 187ms/step\n",
            "Epoch 31/50\n",
            "1/1 - 0s - loss: 0.6185 - acc: 0.8214 - val_loss: 0.7622 - val_acc: 0.8000 - 184ms/epoch - 184ms/step\n",
            "Epoch 32/50\n",
            "1/1 - 0s - loss: 0.6360 - acc: 0.8286 - val_loss: 0.7567 - val_acc: 0.8040 - 212ms/epoch - 212ms/step\n",
            "Epoch 33/50\n",
            "1/1 - 0s - loss: 0.5589 - acc: 0.8643 - val_loss: 0.7517 - val_acc: 0.8040 - 229ms/epoch - 229ms/step\n",
            "Epoch 34/50\n",
            "1/1 - 0s - loss: 0.4931 - acc: 0.8857 - val_loss: 0.7476 - val_acc: 0.8040 - 154ms/epoch - 154ms/step\n",
            "Epoch 35/50\n",
            "1/1 - 0s - loss: 0.5038 - acc: 0.8786 - val_loss: 0.7442 - val_acc: 0.8020 - 212ms/epoch - 212ms/step\n",
            "Epoch 36/50\n",
            "1/1 - 0s - loss: 0.4736 - acc: 0.9000 - val_loss: 0.7405 - val_acc: 0.8020 - 201ms/epoch - 201ms/step\n",
            "Epoch 37/50\n",
            "1/1 - 0s - loss: 0.4879 - acc: 0.8643 - val_loss: 0.7371 - val_acc: 0.8040 - 244ms/epoch - 244ms/step\n",
            "Epoch 38/50\n",
            "1/1 - 0s - loss: 0.4680 - acc: 0.8714 - val_loss: 0.7342 - val_acc: 0.8020 - 269ms/epoch - 269ms/step\n",
            "Epoch 39/50\n",
            "1/1 - 0s - loss: 0.4540 - acc: 0.8929 - val_loss: 0.7321 - val_acc: 0.8020 - 326ms/epoch - 326ms/step\n",
            "Epoch 40/50\n",
            "1/1 - 0s - loss: 0.4426 - acc: 0.8857 - val_loss: 0.7297 - val_acc: 0.8000 - 273ms/epoch - 273ms/step\n",
            "Epoch 41/50\n",
            "1/1 - 0s - loss: 0.4941 - acc: 0.8643 - val_loss: 0.7269 - val_acc: 0.8020 - 240ms/epoch - 240ms/step\n",
            "Epoch 42/50\n",
            "1/1 - 0s - loss: 0.3997 - acc: 0.8929 - val_loss: 0.7241 - val_acc: 0.8060 - 276ms/epoch - 276ms/step\n",
            "Epoch 43/50\n",
            "1/1 - 0s - loss: 0.4421 - acc: 0.8786 - val_loss: 0.7215 - val_acc: 0.8040 - 187ms/epoch - 187ms/step\n",
            "Epoch 44/50\n",
            "1/1 - 0s - loss: 0.4992 - acc: 0.8643 - val_loss: 0.7189 - val_acc: 0.8040 - 169ms/epoch - 169ms/step\n",
            "Epoch 45/50\n",
            "1/1 - 0s - loss: 0.3969 - acc: 0.9071 - val_loss: 0.7161 - val_acc: 0.8000 - 200ms/epoch - 200ms/step\n",
            "Epoch 46/50\n",
            "1/1 - 0s - loss: 0.4114 - acc: 0.8929 - val_loss: 0.7144 - val_acc: 0.8040 - 344ms/epoch - 344ms/step\n",
            "Epoch 47/50\n",
            "1/1 - 0s - loss: 0.3683 - acc: 0.9000 - val_loss: 0.7132 - val_acc: 0.8020 - 207ms/epoch - 207ms/step\n",
            "Epoch 48/50\n",
            "1/1 - 0s - loss: 0.3679 - acc: 0.9071 - val_loss: 0.7127 - val_acc: 0.8020 - 196ms/epoch - 196ms/step\n",
            "Epoch 49/50\n",
            "1/1 - 0s - loss: 0.3578 - acc: 0.9429 - val_loss: 0.7131 - val_acc: 0.7980 - 188ms/epoch - 188ms/step\n",
            "Epoch 50/50\n",
            "1/1 - 0s - loss: 0.3710 - acc: 0.8857 - val_loss: 0.7142 - val_acc: 0.8000 - 289ms/epoch - 289ms/step\n"
          ]
        }
      ]
    },
    {
      "cell_type": "markdown",
      "source": [
        "Plot the training history:"
      ],
      "metadata": {
        "id": "rgwu7P_LeLJ_"
      }
    },
    {
      "cell_type": "code",
      "source": [
        "sg.utils.plot_history(history)"
      ],
      "metadata": {
        "colab": {
          "base_uri": "https://localhost:8080/",
          "height": 585
        },
        "id": "thgjjXOweL5W",
        "outputId": "9fc69056-cd5d-44b9-bf67-1a7e5c488d9e"
      },
      "execution_count": 42,
      "outputs": [
        {
          "output_type": "display_data",
          "data": {
            "text/plain": [
              "<Figure size 504x576 with 2 Axes>"
            ],
            "image/png": "[encoded data removed]"
          },
          "metadata": {
            "needs_background": "light"
          }
        }
      ]
    },
    {
      "cell_type": "markdown",
      "source": [
        "Reload the saved weights of the best model found during the training (according to validation accuracy)"
      ],
      "metadata": {
        "id": "8UhWKUXoeQ7A"
      }
    },
    {
      "cell_type": "code",
      "source": [
        "model.load_weights(\"logs/best_model.h5\")"
      ],
      "metadata": {
        "id": "aBUcgj3ieP2d"
      },
      "execution_count": 43,
      "outputs": []
    },
    {
      "cell_type": "code",
      "source": [
        "test_gen = generator.flow(test_subjects.index, test_targets)"
      ],
      "metadata": {
        "id": "wv73IcLyeT72"
      },
      "execution_count": 44,
      "outputs": []
    },
    {
      "cell_type": "code",
      "source": [
        "test_metrics = model.evaluate(test_gen)\n",
        "print(\"\\nTest Set Metrics:\")\n",
        "for name, val in zip(model.metrics_names, test_metrics):\n",
        "    print(\"\\t{}: {:0.4f}\".format(name, val))"
      ],
      "metadata": {
        "colab": {
          "base_uri": "https://localhost:8080/"
        },
        "id": "QmV_fnN_eYqh",
        "outputId": "7158a4e9-0121-4940-9886-c845d5607255"
      },
      "execution_count": 45,
      "outputs": [
        {
          "output_type": "stream",
          "name": "stdout",
          "text": [
            "1/1 [==============================] - 0s 78ms/step - loss: 0.6666 - acc: 0.8090\n",
            "\n",
            "Test Set Metrics:\n",
            "\tloss: 0.6666\n",
            "\tacc: 0.8090\n"
          ]
        }
      ]
    },
    {
      "cell_type": "markdown",
      "source": [
        "###Making predictions with the model"
      ],
      "metadata": {
        "id": "cAnIf_4RebbT"
      }
    },
    {
      "cell_type": "code",
      "source": [
        "all_nodes = node_subjects.index\n",
        "all_gen = generator.flow(all_nodes)\n",
        "all_predictions = model.predict(all_gen)"
      ],
      "metadata": {
        "colab": {
          "base_uri": "https://localhost:8080/"
        },
        "id": "6XjRoF-geYnu",
        "outputId": "ee40bca3-3f39-491e-c96e-fd3fba4f3a06"
      },
      "execution_count": 46,
      "outputs": [
        {
          "output_type": "stream",
          "name": "stdout",
          "text": [
            "1/1 [==============================] - 0s 390ms/step\n"
          ]
        }
      ]
    },
    {
      "cell_type": "code",
      "source": [
        "node_predictions = target_encoding.inverse_transform(all_predictions.squeeze())"
      ],
      "metadata": {
        "id": "tpFk_2fpeYk9"
      },
      "execution_count": 47,
      "outputs": []
    },
    {
      "cell_type": "code",
      "source": [
        "df = pd.DataFrame({\"Predicted\": node_predictions, \"True\": node_subjects})\n",
        "df.head(20)"
      ],
      "metadata": {
        "colab": {
          "base_uri": "https://localhost:8080/",
          "height": 677
        },
        "id": "IcbTg3A1eYiP",
        "outputId": "4fcd33a2-f894-4900-c49e-5e6a824f54c2"
      },
      "execution_count": 48,
      "outputs": [
        {
          "output_type": "execute_result",
          "data": {
            "text/plain": [
              "                      Predicted                    True\n",
              "31336           Neural_Networks         Neural_Networks\n",
              "1061127           Rule_Learning           Rule_Learning\n",
              "1106406  Reinforcement_Learning  Reinforcement_Learning\n",
              "13195    Reinforcement_Learning  Reinforcement_Learning\n",
              "37879     Probabilistic_Methods   Probabilistic_Methods\n",
              "1126012   Probabilistic_Methods   Probabilistic_Methods\n",
              "1107140  Reinforcement_Learning                  Theory\n",
              "1102850         Neural_Networks         Neural_Networks\n",
              "31349           Neural_Networks         Neural_Networks\n",
              "1106418                  Theory                  Theory\n",
              "1123188         Neural_Networks         Neural_Networks\n",
              "1128990                  Theory      Genetic_Algorithms\n",
              "109323    Probabilistic_Methods   Probabilistic_Methods\n",
              "217139                   Theory              Case_Based\n",
              "31353           Neural_Networks         Neural_Networks\n",
              "32083           Neural_Networks         Neural_Networks\n",
              "1126029  Reinforcement_Learning  Reinforcement_Learning\n",
              "1118017         Neural_Networks         Neural_Networks\n",
              "49482           Neural_Networks         Neural_Networks\n",
              "753265          Neural_Networks         Neural_Networks"
            ],
            "text/html": [
              "\n",
              "  <div id=\"df-6d86c267-cae2-4e86-99a6-2a430c598db8\">\n",
              "    <div class=\"colab-df-container\">\n",
              "      <div>\n",
              "<style scoped>\n",
              "    .dataframe tbody tr th:only-of-type {\n",
              "        vertical-align: middle;\n",
              "    }\n",
              "\n",
              "    .dataframe tbody tr th {\n",
              "        vertical-align: top;\n",
              "    }\n",
              "\n",
              "    .dataframe thead th {\n",
              "        text-align: right;\n",
              "    }\n",
              "</style>\n",
              "<table border=\"1\" class=\"dataframe\">\n",
              "  <thead>\n",
              "    <tr style=\"text-align: right;\">\n",
              "      <th></th>\n",
              "      <th>Predicted</th>\n",
              "      <th>True</th>\n",
              "    </tr>\n",
              "  </thead>\n",
              "  <tbody>\n",
              "    <tr>\n",
              "      <th>31336</th>\n",
              "      <td>Neural_Networks</td>\n",
              "      <td>Neural_Networks</td>\n",
              "    </tr>\n",
              "    <tr>\n",
              "      <th>1061127</th>\n",
              "      <td>Rule_Learning</td>\n",
              "      <td>Rule_Learning</td>\n",
              "    </tr>\n",
              "    <tr>\n",
              "      <th>1106406</th>\n",
              "      <td>Reinforcement_Learning</td>\n",
              "      <td>Reinforcement_Learning</td>\n",
              "    </tr>\n",
              "    <tr>\n",
              "      <th>13195</th>\n",
              "      <td>Reinforcement_Learning</td>\n",
              "      <td>Reinforcement_Learning</td>\n",
              "    </tr>\n",
              "    <tr>\n",
              "      <th>37879</th>\n",
              "      <td>Probabilistic_Methods</td>\n",
              "      <td>Probabilistic_Methods</td>\n",
              "    </tr>\n",
              "    <tr>\n",
              "      <th>1126012</th>\n",
              "      <td>Probabilistic_Methods</td>\n",
              "      <td>Probabilistic_Methods</td>\n",
              "    </tr>\n",
              "    <tr>\n",
              "      <th>1107140</th>\n",
              "      <td>Reinforcement_Learning</td>\n",
              "      <td>Theory</td>\n",
              "    </tr>\n",
              "    <tr>\n",
              "      <th>1102850</th>\n",
              "      <td>Neural_Networks</td>\n",
              "      <td>Neural_Networks</td>\n",
              "    </tr>\n",
              "    <tr>\n",
              "      <th>31349</th>\n",
              "      <td>Neural_Networks</td>\n",
              "      <td>Neural_Networks</td>\n",
              "    </tr>\n",
              "    <tr>\n",
              "      <th>1106418</th>\n",
              "      <td>Theory</td>\n",
              "      <td>Theory</td>\n",
              "    </tr>\n",
              "    <tr>\n",
              "      <th>1123188</th>\n",
              "      <td>Neural_Networks</td>\n",
              "      <td>Neural_Networks</td>\n",
              "    </tr>\n",
              "    <tr>\n",
              "      <th>1128990</th>\n",
              "      <td>Theory</td>\n",
              "      <td>Genetic_Algorithms</td>\n",
              "    </tr>\n",
              "    <tr>\n",
              "      <th>109323</th>\n",
              "      <td>Probabilistic_Methods</td>\n",
              "      <td>Probabilistic_Methods</td>\n",
              "    </tr>\n",
              "    <tr>\n",
              "      <th>217139</th>\n",
              "      <td>Theory</td>\n",
              "      <td>Case_Based</td>\n",
              "    </tr>\n",
              "    <tr>\n",
              "      <th>31353</th>\n",
              "      <td>Neural_Networks</td>\n",
              "      <td>Neural_Networks</td>\n",
              "    </tr>\n",
              "    <tr>\n",
              "      <th>32083</th>\n",
              "      <td>Neural_Networks</td>\n",
              "      <td>Neural_Networks</td>\n",
              "    </tr>\n",
              "    <tr>\n",
              "      <th>1126029</th>\n",
              "      <td>Reinforcement_Learning</td>\n",
              "      <td>Reinforcement_Learning</td>\n",
              "    </tr>\n",
              "    <tr>\n",
              "      <th>1118017</th>\n",
              "      <td>Neural_Networks</td>\n",
              "      <td>Neural_Networks</td>\n",
              "    </tr>\n",
              "    <tr>\n",
              "      <th>49482</th>\n",
              "      <td>Neural_Networks</td>\n",
              "      <td>Neural_Networks</td>\n",
              "    </tr>\n",
              "    <tr>\n",
              "      <th>753265</th>\n",
              "      <td>Neural_Networks</td>\n",
              "      <td>Neural_Networks</td>\n",
              "    </tr>\n",
              "  </tbody>\n",
              "</table>\n",
              "</div>\n",
              "      <button class=\"colab-df-convert\" onclick=\"convertToInteractive('df-6d86c267-cae2-4e86-99a6-2a430c598db8')\"\n",
              "              title=\"Convert this dataframe to an interactive table.\"\n",
              "              style=\"display:none;\">\n",
              "        \n",
              "  <svg xmlns=\"http://www.w3.org/2000/svg\" height=\"24px\"viewBox=\"0 0 24 24\"\n",
              "       width=\"24px\">\n",
              "    <path d=\"M0 0h24v24H0V0z\" fill=\"none\"/>\n",
              "    <path d=\"M18.56 5.44l.94 2.06.94-2.06 2.06-.94-2.06-.94-.94-2.06-.94 2.06-2.06.94zm-11 1L8.5 8.5l.94-2.06 2.06-.94-2.06-.94L8.5 2.5l-.94 2.06-2.06.94zm10 10l.94 2.06.94-2.06 2.06-.94-2.06-.94-.94-2.06-.94 2.06-2.06.94z\"/><path d=\"M17.41 7.96l-1.37-1.37c-.4-.4-.92-.59-1.43-.59-.52 0-1.04.2-1.43.59L10.3 9.45l-7.72 7.72c-.78.78-.78 2.05 0 2.83L4 21.41c.39.39.9.59 1.41.59.51 0 1.02-.2 1.41-.59l7.78-7.78 2.81-2.81c.8-.78.8-2.07 0-2.86zM5.41 20L4 18.59l7.72-7.72 1.47 1.35L5.41 20z\"/>\n",
              "  </svg>\n",
              "      </button>\n",
              "      \n",
              "  <style>\n",
              "    .colab-df-container {\n",
              "      display:flex;\n",
              "      flex-wrap:wrap;\n",
              "      gap: 12px;\n",
              "    }\n",
              "\n",
              "    .colab-df-convert {\n",
              "      background-color: #E8F0FE;\n",
              "      border: none;\n",
              "      border-radius: 50%;\n",
              "      cursor: pointer;\n",
              "      display: none;\n",
              "      fill: #1967D2;\n",
              "      height: 32px;\n",
              "      padding: 0 0 0 0;\n",
              "      width: 32px;\n",
              "    }\n",
              "\n",
              "    .colab-df-convert:hover {\n",
              "      background-color: #E2EBFA;\n",
              "      box-shadow: 0px 1px 2px rgba(60, 64, 67, 0.3), 0px 1px 3px 1px rgba(60, 64, 67, 0.15);\n",
              "      fill: #174EA6;\n",
              "    }\n",
              "\n",
              "    [theme=dark] .colab-df-convert {\n",
              "      background-color: #3B4455;\n",
              "      fill: #D2E3FC;\n",
              "    }\n",
              "\n",
              "    [theme=dark] .colab-df-convert:hover {\n",
              "      background-color: #434B5C;\n",
              "      box-shadow: 0px 1px 3px 1px rgba(0, 0, 0, 0.15);\n",
              "      filter: drop-shadow(0px 1px 2px rgba(0, 0, 0, 0.3));\n",
              "      fill: #FFFFFF;\n",
              "    }\n",
              "  </style>\n",
              "\n",
              "      <script>\n",
              "        const buttonEl =\n",
              "          document.querySelector('#df-6d86c267-cae2-4e86-99a6-2a430c598db8 button.colab-df-convert');\n",
              "        buttonEl.style.display =\n",
              "          google.colab.kernel.accessAllowed ? 'block' : 'none';\n",
              "\n",
              "        async function convertToInteractive(key) {\n",
              "          const element = document.querySelector('#df-6d86c267-cae2-4e86-99a6-2a430c598db8');\n",
              "          const dataTable =\n",
              "            await google.colab.kernel.invokeFunction('convertToInteractive',\n",
              "                                                     [key], {});\n",
              "          if (!dataTable) return;\n",
              "\n",
              "          const docLinkHtml = 'Like what you see? Visit the ' +\n",
              "            '<a target=\"_blank\" href=https://colab.research.google.com/notebooks/data_table.ipynb>data table notebook</a>'\n",
              "            + ' to learn more about interactive tables.';\n",
              "          element.innerHTML = '';\n",
              "          dataTable['output_type'] = 'display_data';\n",
              "          await google.colab.output.renderOutput(dataTable, element);\n",
              "          const docLink = document.createElement('div');\n",
              "          docLink.innerHTML = docLinkHtml;\n",
              "          element.appendChild(docLink);\n",
              "        }\n",
              "      </script>\n",
              "    </div>\n",
              "  </div>\n",
              "  "
            ]
          },
          "metadata": {},
          "execution_count": 48
        }
      ]
    },
    {
      "cell_type": "markdown",
      "source": [
        "###Node Embeddings"
      ],
      "metadata": {
        "id": "jZsSg1y2en1K"
      }
    },
    {
      "cell_type": "code",
      "source": [
        "emb_layer = next(l for l in model.layers if l.name.startswith(\"graph_attention\"))\n",
        "print(\n",
        "    \"Embedding layer: {}, output shape {}\".format(emb_layer.name, emb_layer.output_shape)\n",
        ")"
      ],
      "metadata": {
        "colab": {
          "base_uri": "https://localhost:8080/"
        },
        "id": "TPi8kD-meYfb",
        "outputId": "a6b29759-00e8-4379-f4be-385bc1858217"
      },
      "execution_count": 49,
      "outputs": [
        {
          "output_type": "stream",
          "name": "stdout",
          "text": [
            "Embedding layer: graph_attention_sparse, output shape (1, 2708, 64)\n"
          ]
        }
      ]
    },
    {
      "cell_type": "code",
      "source": [
        "embedding_model = Model(inputs=x_inp, outputs=emb_layer.output)"
      ],
      "metadata": {
        "id": "DESe5Y6jeYck"
      },
      "execution_count": 50,
      "outputs": []
    },
    {
      "cell_type": "markdown",
      "source": [
        "The embeddings can now be calculated using the predict function. Note that the embeddings returned are 64 dimensional features (8 dimensions for each of the 8 attention heads) for all nodes."
      ],
      "metadata": {
        "id": "uIzx-wOSexvc"
      }
    },
    {
      "cell_type": "code",
      "source": [
        "emb = embedding_model.predict(all_gen)\n",
        "emb.shape"
      ],
      "metadata": {
        "colab": {
          "base_uri": "https://localhost:8080/"
        },
        "id": "jmJ19W-neYZr",
        "outputId": "e2b55c21-23a2-49e3-da38-7c905d01c1af"
      },
      "execution_count": 51,
      "outputs": [
        {
          "output_type": "stream",
          "name": "stdout",
          "text": [
            "1/1 [==============================] - 0s 322ms/step\n"
          ]
        },
        {
          "output_type": "execute_result",
          "data": {
            "text/plain": [
              "(1, 2708, 64)"
            ]
          },
          "metadata": {},
          "execution_count": 51
        }
      ]
    },
    {
      "cell_type": "markdown",
      "source": [
        "Projecting the embeddings to 2d using either TSNE or PCA transform, and visualise, coloring nodes by their true subject label"
      ],
      "metadata": {
        "id": "14PHSI1Ne3-e"
      }
    },
    {
      "cell_type": "code",
      "source": [
        "from sklearn.decomposition import PCA\n",
        "from sklearn.manifold import TSNE\n",
        "import pandas as pd\n",
        "import numpy as np"
      ],
      "metadata": {
        "id": "-W01jWhyeYWm"
      },
      "execution_count": 52,
      "outputs": []
    },
    {
      "cell_type": "code",
      "source": [
        "X = emb.squeeze()\n",
        "y = np.argmax(target_encoding.transform(node_subjects), axis=1)"
      ],
      "metadata": {
        "id": "Ayj5ISy0eYT5"
      },
      "execution_count": 53,
      "outputs": []
    },
    {
      "cell_type": "code",
      "source": [
        "if X.shape[1] > 2:\n",
        "    transform = TSNE  # PCA\n",
        "\n",
        "    trans = transform(n_components=2)\n",
        "    emb_transformed = pd.DataFrame(trans.fit_transform(X), index=list(G.nodes()))\n",
        "    emb_transformed[\"label\"] = y\n",
        "else:\n",
        "    emb_transformed = pd.DataFrame(X, index=list(G.nodes()))\n",
        "    emb_transformed = emb_transformed.rename(columns={\"0\": 0, \"1\": 1})\n",
        "    emb_transformed[\"label\"] = y"
      ],
      "metadata": {
        "colab": {
          "base_uri": "https://localhost:8080/"
        },
        "id": "wkn95QEpeYRH",
        "outputId": "b40dee27-1bec-405c-d65c-0c7893899a94"
      },
      "execution_count": 54,
      "outputs": [
        {
          "output_type": "stream",
          "name": "stderr",
          "text": [
            "/usr/local/lib/python3.7/dist-packages/sklearn/manifold/_t_sne.py:783: FutureWarning: The default initialization in TSNE will change from 'random' to 'pca' in 1.2.\n",
            "  FutureWarning,\n",
            "/usr/local/lib/python3.7/dist-packages/sklearn/manifold/_t_sne.py:793: FutureWarning: The default learning rate in TSNE will change from 200.0 to 'auto' in 1.2.\n",
            "  FutureWarning,\n"
          ]
        }
      ]
    },
    {
      "cell_type": "code",
      "source": [
        "alpha = 0.7\n",
        "\n",
        "fig, ax = plt.subplots(figsize=(7, 7))\n",
        "ax.scatter(\n",
        "    emb_transformed[0],\n",
        "    emb_transformed[1],\n",
        "    c=emb_transformed[\"label\"].astype(\"category\"),\n",
        "    cmap=\"jet\",\n",
        "    alpha=alpha,\n",
        ")\n",
        "ax.set(aspect=\"equal\", xlabel=\"$X_1$\", ylabel=\"$X_2$\")\n",
        "plt.title(\n",
        "    \"{} visualization of GAT embeddings for cora dataset\".format(transform.__name__)\n",
        ")\n",
        "plt.show()"
      ],
      "metadata": {
        "colab": {
          "base_uri": "https://localhost:8080/",
          "height": 462
        },
        "id": "poupdFz4fMkt",
        "outputId": "a720c00a-8e00-4942-ae7f-a2d162485f2d"
      },
      "execution_count": 55,
      "outputs": [
        {
          "output_type": "display_data",
          "data": {
            "text/plain": [
              "<Figure size 504x504 with 1 Axes>"
            ],
            "image/png": "[encoded data removed]"
          },
          "metadata": {
            "needs_background": "light"
          }
        }
      ]
    },
    {
      "cell_type": "markdown",
      "source": [
        "#References:\n",
        "#####https://stellargraph.readthedocs.io/en/stable/demos/node-classification/gcn-node-classification.html\n",
        "#####https://stellargraph.readthedocs.io/en/stable/demos/node-classification/gat-node-classification.html"
      ],
      "metadata": {
        "id": "3xuOdyZRfP8y"
      }
    }
  ],
  "metadata": {
    "kernelspec": {
      "display_name": "Python 3",
      "language": "python",
      "name": "python3"
    },
    "language_info": {
      "codemirror_mode": {
        "name": "ipython",
        "version": 3
      },
      "file_extension": ".py",
      "mimetype": "text/x-python",
      "name": "python",
      "nbconvert_exporter": "python",
      "pygments_lexer": "ipython3",
      "version": "3.6.9"
    },
    "colab": {
      "provenance": [],
      "collapsed_sections": []
    },
    "accelerator": "GPU"
  },
  "nbformat": 4,
  "nbformat_minor": 0
}